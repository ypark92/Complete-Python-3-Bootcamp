{
 "cells": [
  {
   "cell_type": "markdown",
   "metadata": {},
   "source": [
    "___\n",
    "\n",
    "<a href='https://www.udemy.com/user/joseportilla/'><img src='../Pierian_Data_Logo.png'/></a>\n",
    "___\n",
    "<center><em>Content Copyright by Pierian Data</em></center>"
   ]
  },
  {
   "cell_type": "markdown",
   "metadata": {},
   "source": [
    "# PDFs and Spreadsheets Puzzle Exercise\n",
    "\n",
    "Let's test your skills, the files needed for this puzzle exercise\n",
    "\n",
    "You will need to work with two files for this exercise and solve the following tasks:\n",
    "\n",
    "* Task One: Use Python to extract the Google Drive link from the .csv file. (Hint: Its along the diagonal from top left to bottom right).\n",
    "* Task Two: Download the PDF from the Google Drive link (we already downloaded it for you just in case you can't download from Google Drive) and find the phone number that is in the document. Note: There are different ways of formatting a phone number!"
   ]
  },
  {
   "cell_type": "markdown",
   "metadata": {},
   "source": [
    "## Task One: Grab the Google Drive Link from .csv File"
   ]
  },
  {
   "cell_type": "code",
   "execution_count": 1,
   "metadata": {
    "collapsed": true
   },
   "outputs": [],
   "source": [
    "import csv\n",
    "\n",
    "data = open('Exercise_Files/find_the_link.csv',encoding='utf-8')\n",
    "csv_data = csv.reader(data)"
   ]
  },
  {
   "cell_type": "code",
   "execution_count": 2,
   "metadata": {},
   "outputs": [],
   "source": [
    "data_lines = list(csv_data)"
   ]
  },
  {
   "cell_type": "code",
   "execution_count": 7,
   "metadata": {},
   "outputs": [
    {
     "output_type": "execute_result",
     "data": {
      "text/plain": "['h',\n '53',\n '24',\n '46',\n '4',\n '11',\n '3',\n '35',\n '17',\n '52',\n '9',\n '60',\n '26',\n '60',\n '72',\n '39',\n '11',\n '80',\n '86',\n '66',\n '59',\n '9',\n '41',\n '33',\n '11',\n '42',\n '69',\n '74',\n '91',\n '61',\n '5',\n '69',\n '17',\n '17',\n '78',\n '6',\n '51',\n '54',\n '54',\n '94',\n '47',\n '37',\n '0',\n '16',\n '71',\n '6',\n '83',\n '7',\n '6',\n '38',\n '61',\n '18',\n '68',\n '15',\n '2',\n '81',\n '49',\n '5',\n '17',\n '21',\n '36',\n '63',\n '38',\n '24',\n '3',\n '99']"
     },
     "metadata": {},
     "execution_count": 7
    }
   ],
   "source": [
    "# Remember it's diagonal\n",
    "data_lines[0]"
   ]
  },
  {
   "cell_type": "code",
   "execution_count": 4,
   "metadata": {},
   "outputs": [],
   "source": [
    "link_str = ''\n",
    "\n",
    "for row_num,data in enumerate(data_lines):\n",
    "\n",
    "    link_str += data[row_num]"
   ]
  },
  {
   "cell_type": "code",
   "execution_count": 5,
   "metadata": {},
   "outputs": [
    {
     "output_type": "execute_result",
     "data": {
      "text/plain": "'https://drive.google.com/open?id=1G6SEgg018UB4_4xsAJJ5TdzrhmXipr4Q'"
     },
     "metadata": {},
     "execution_count": 5
    }
   ],
   "source": [
    "link_str"
   ]
  },
  {
   "cell_type": "code",
   "execution_count": 14,
   "metadata": {},
   "outputs": [
    {
     "data": {
      "text/plain": [
       "'https://drive.google.com/open?id=1G6SEgg018UB4_4xsAJJ5TdzrhmXipr4Q'"
      ]
     },
     "execution_count": 14,
     "metadata": {},
     "output_type": "execute_result"
    }
   ],
   "source": [
    "# THe correct result is shown below, if you can't download from Google Drive, \n",
    "# we added the PDF file to the Exercise_Files folder already"
   ]
  },
  {
   "cell_type": "markdown",
   "metadata": {},
   "source": [
    "## Task Two: Download the PDF from the Google Drive link and find the phone number that is in the document. "
   ]
  },
  {
   "cell_type": "code",
   "execution_count": 8,
   "metadata": {},
   "outputs": [],
   "source": [
    "import PyPDF2"
   ]
  },
  {
   "cell_type": "code",
   "execution_count": 9,
   "metadata": {},
   "outputs": [],
   "source": [
    "f = open('Exercise_Files/Find_the_Phone_Number.pdf','rb')"
   ]
  },
  {
   "cell_type": "code",
   "execution_count": 10,
   "metadata": {},
   "outputs": [],
   "source": [
    "pdf = PyPDF2.PdfFileReader(f)"
   ]
  },
  {
   "cell_type": "code",
   "execution_count": 11,
   "metadata": {},
   "outputs": [
    {
     "output_type": "execute_result",
     "data": {
      "text/plain": "17"
     },
     "metadata": {},
     "execution_count": 11
    }
   ],
   "source": [
    "pdf.numPages"
   ]
  },
  {
   "cell_type": "code",
   "execution_count": 12,
   "metadata": {},
   "outputs": [],
   "source": [
    "# Figuring out the phone number - find the three digit number first\n",
    "import re"
   ]
  },
  {
   "cell_type": "code",
   "execution_count": 13,
   "metadata": {},
   "outputs": [],
   "source": [
    "pattern = r'\\d{3}'"
   ]
  },
  {
   "cell_type": "code",
   "execution_count": 14,
   "metadata": {},
   "outputs": [],
   "source": [
    "all_text = ''\n",
    "\n",
    "for n in range(pdf.numPages):\n",
    "    \n",
    "    page = pdf.getPage(n)\n",
    "    page_text = page.extractText()\n",
    "\n",
    "    all_text = all_text+''+page_text"
   ]
  },
  {
   "cell_type": "code",
   "execution_count": 15,
   "metadata": {},
   "outputs": [
    {
     "output_type": "execute_result",
     "data": {
      "text/plain": "mpire. Exposing new ways to evolve our design language curate \\nthose options are alre\\nady baked in with this model, so eat our own dog food but draw a \\nline in the sand, for zeitgeist. Per my previous email we need to harvest synergy effects. \\nDear hiring manager: you better eat a reality sandwich before you walk back in that \\nboardroom. Ladde\\nr up / ladder back to the strategy cloud native container based (let\\'s \\nnot try to) boil the ocean (here/there/everywhere), strategic fit. Game\\n-\\nplan target rich \\nenvironment for bench mark. Hammer out game\\n-\\nplan it\\'s a simple lift and shift job. Put \\nin in a d\\neck for our standup today manage expectations nor baseline the procedure and \\nsamepage your department, but optimize the fireball. Viral engagement criticality \\nproceduralize going forward don\\'t over think it nor wheelhouse. Synergestic actionables \\ndrop\\n-\\ndead\\n \\ndate, so collaboration through advanced technlogy horsehead offer. \\nRehydrate the team can we align on lunch orders, for goalposts show pony. Sorry i \\ndidn\\'t get your email design thinking for turn the crank, for old boys club. Those options \\nare already bak\\ned in with this model loop back, and hammer out. Incentivization no \\nscraps hit the floor synergize productive mindfulness baseline yet not a hill to die on \\ndrink the Kool\\n-\\naid. Big boy pants marketing computer development html roi feedback \\nteam website padd\\nle on both sides, and quick\\n-\\nwin. This medium needs to be more \\ndynamic it is all exactly as i said, but i don\\'t like it churning anomalies ultimate measure \\nof success nor parallel path. After I ran into Helen at a restaurant, I realized she was \\njust office \\npretty focus on the customer journey so pipeline. Who\\'s responsible for the \\nask for this request? minimize backwards overflow performance review but I just wanted \\nto give you a heads\\n-\\nup. Put it on the parking lot drive awareness to increase \\nengagement for \\nthat ipo will be a game\\n-\\nchanger product market fit for your work on this \\nproject has been really impactful, nor critical mass going forward. Optimize for search \\nlet\\'s put a pin in that overcome key issues to meet key milestones, focus on the \\ncustomer journ\\ney nor rehydrate the team. Close the loop.\\n \\n \\n \\nStaff engagement touch base yet can I just chime in on that one draw a line in the sand \\nthis proposal is a win\\n-\\nwin situation which will cause a stellar paradigm shift, and \\nproduce a multi\\n-\\nfold increase in delive\\nrables but future\\n-\\nproof. I dont care if you got some \\ncopy, why you dont use officeipsumcom or something like that ? low\\n-\\nhanging fruit beef \\nup, and optimize for search or we need to leverage our synergies. We need to make the \\nnew version clean and sexy bell\\ns and whistles, so meeting assassin, and execute . \\nBaseline the procedure and samepage your department push back yet strategic high\\n-\\nlevel 30,000 ft view powerPointless, but deliverables nor circle back. Paddle on both \\nsides conversational content win\\n-\\nwin\\n-\\nw\\nin nor pig in a python overcome key issues to \\nmeet key milestones. Personal development crisp ppt deep dive. Can we parallel path \\nblue sky and this proposal is a win\\n-\\nwin situation which will cause a stellar paradigm \\nshift, and produce a multi\\n-\\nfold increase\\n \\nin deliverables. Where the metal hits the meat \\nhorsehead offer. Onward and upward, productize the deliverables and focus on the \\n\\nknowledge process outsourcing. Slow\\n-\\nwalk ou\\nr commitment synergize productive \\nmindfulness so high turnaround rate we need to harvest synergy effects. Who\\'s the goto \\non this job with the way forward tbrand terrorists. Your work on this project has been \\nreally impactful. Pushback quantity shoot me an \\nemail so single wringable neck hit the \\n\\n\\nPerformance review let\\'s not solutionize this right\\n \\nnow parking lot it so win\\n-\\nwin\\n-\\nwin and \\nfast track gain traction. At the end of the day player\\n-\\ncoach nor we need to leverage our \\nsynergies. Can we take this offline vec we\\'ve bootstrapped the model nor feature creep.\\n \\n \\n \\nChurning anomalies. Face time. Are we \\nin agreeance 60% to 30% is a lot of persent no \\nscraps hit the floor, nor critical mass. Can you run this by clearance? hot johnny coming \\nthrough . This proposal is a win\\n-\\nwin situation which will cause a stellar paradigm shift, \\nand produce a multi\\n-\\nfold incr\\nease in deliverables we need to aspirationalise our \\nofferings so this vendor is incompetent , nor organic growth. Dog and pony show. Turn \\nthe ship. If you want to motivate these clowns, try less carrot and more stick imagineer, \\nbut product market fit and w\\ne need to crystallize a plan pro\\n-\\nsumer software for strategic \\nfit programmatically.\\n \\n \\n \\nPushback it\\'s a simple lift and shift job. Hit the ground running zeitgeist hit the ground \\nrunning, but first\\n-\\norder optimal strategies. When does this sunset? bleeding ed\\nge, high \\nturnaround rate but agile. Ensure to follow requirements when developing solutions we \\nneed to dialog around your choice of work attire ping me optimize the fireball. When \\ndoes this sunset? strategic fit pushback. Helicopter view back of the net, f\\nor i am dead \\ninside win\\n-\\nwin\\n-\\nwin yet service as core &innovations as power makes our brand. What \\ndo you feel you would bring to the table if you were hired for this position. Golden goose \\nwindow\\n-\\nlicker what do you feel you would bring to the table if you we\\nre hired for this \\nposition, or build on a culture of contribution and inclusion horsehead offer, we don\\'t \\nneed to boil the ocean here. All hands on deck if you could do that, that would be great \\nUI quarterly sales are at an all\\n-\\ntime low, yet sea change but\\n \\nre\\n-\\ninventing the wheel. Let\\'s \\nput a pin in that locked and loaded. Tribal knowledge get buy\\n-\\nin quick win, so disband \\nthe squad but rehydrate as needed, hit the ground running, nor we want to see more \\ncharts for technologically savvy. Gain traction nail je\\nlly to the hothouse wall, and come \\nup with something buzzworthy. I don\\'t want to drain the whole swamp, i just want to \\nshoot some alligators optics. Product launch quantity can you slack it to me? \\ndownselect for fire up your browser streamline. Products ne\\ned full resourcing and \\nsupport from a cross\\n-\\nfunctional team in order to be built, maintained, and evolved come \\nup with something buzzworthy. Can you run this by clearance? hot johnny coming \\nthrough into the weeds, for goalposts. Quarterly sales are at an a\\nll\\n-\\ntime low. Pivot \\nbaseline or customer centric, into the weeds innovation is hot right now we have to \\nleverage up the messaging.\\n \\n \\n \\nA tentative event rundown is attached for your reference, including other happenings on \\nthe day you are most welcome to join\\n \\nus beforehand for a light lunch we would also like \\nto invite you to other activities on the day, including the interim and closing panel \\ndiscussions on the intersection of businesses and social innovation, and on building a \\nstronger social innovation eco\\n-\\nsystem respectively. We don\\'t need to boil the ocean \\nhere reach out what are the expectations nor land the plane. Talk to the slides make it \\nmore corporate please. Looks great, can we try it a different way cross functional teams \\nenable out of the box brai\\nnstorming and cross sabers sacred cow beef up. We should \\nleverage existing asserts that ladder up to the message radical candor and you better \\neat a reality sandwich before you walk back in that boardroom. Loop back core \\ncompetencies. The right info at the\\n \\nright time to the right people can you put it on my \\ncalendar? so quick\\n-\\nwin yet vertical integration. The horse is out of the barn are there \\nany leftovers in the kitchen? back of the net, this is not the hill i want to die on.\\n \\n \\n \\nAll hands on deck I just wa\\nnted to give you a heads\\n-\\nup, minimize backwards overflow \\nand it\\'s not hard guys we need to future\\n-\\nproof this, yet quick win, yet gage [sic] where \\n\\nTechnologically savvy can you slack\\n \\nit to me? drink from the firehose, synergestic \\nactionables. Obviously this is a no\\n-\\nbrainer, so what about scaling components to a \\nglobal audience?, so dunder mifflin regroup. We need to get all stakeholders up to \\nspeed and in the right place knowledge is \\npower circle back around, yet horsehead offer \\nred flag we need this overall to be busier and more active hit the ground running. Can I \\njust chime in on that one bake it in, onward and upward, productize the deliverables and \\nfocus on the bottom line. Deploy\\n. Window of opportunity let\\'s schedule a standup during \\nthe sprint to review our kpis can we take this offline, or gain traction. Meeting assassin \\ntbrand terrorists put it on the parking lot or we\\'ve got to manage that low hanging fruit or \\nlow engagement. \\nMeeting assassin hire the best yet we need distributors to evangelize \\nthe new line to local markets, or corporate synergy nor face time. What do you feel you \\nwould bring to the table if you were hired for this position synergestic actionables yet \\nwork flow\\ns , nor marketing computer development html roi feedback team website what \\ndo you feel you would bring to the table if you were hired for this position dear hiring \\nmanager:. Can you ballpark the cost per unit for me. Five\\n-\\nyear strategic plan shotgun \\napproa\\nch, it just needs more cowbell. Out of the loop player\\n-\\ncoach. What\\'s our go to \\nmarket strategy?.\\n \\n \\n \\nNot the long pole in my tent beef up, or accountable talk yet bleeding edge, so sorry i \\ndidn\\'t get your email. All hands on deck we need to harvest synergy e\\nffects, big data \\nwhat\\'s the status on the deliverables for eow? Can you call Saul Goodman for me? His \\nphone number is 505.503.4455. So horsehead offer. Talk to the slides no scraps hit the \\nfloor window\\n-\\nlicker. Nail it down who\\'s responsible for the ask for\\n \\nthis request? we need \\ndistributors to evangelize the new line to local markets imagineer, or ensure to follow \\nrequirements when developing solutions nor make it a priority. Out of scope drink from \\nthe firehose, or shoot me an email nor we don\\'t need to bo\\nil the ocean here strategic fit, \\nnor prairie dogging. Bottleneck mice quick\\n-\\nwin to be inspired is to become creative, \\ninnovative and energized we want this philosophy to trickle down to all our stakeholders \\nor synergestic actionables. I don\\'t want to drain\\n \\nthe whole swamp, i just want to shoot \\nsome alligators cannibalize, and define the underlying principles that drive decisions \\nand strategy for your design language so I just wanted to give you a heads\\n-\\nup, or \\nchurning anomalies but ultimate measure of succe\\nss yet first\\n-\\norder optimal strategies. If \\nyou want to motivate these clowns, try less carrot and more stick drill down focus on the \\ncustomer journey feature creep after I ran into Helen at a restaurant, I realized she was \\njust office pretty not a hill to d\\nie on yet pro\\n-\\nsumer software. Come up with something \\nbuzzworthy can you put it on my calendar? gage [sic] where the industry is heading and \\n\\nask, yet in this space so criti\\ncality horsehead offer. Gain traction onward and upward, \\nproductize the deliverables and focus on the bottom line for pro\\n-\\nsumer software, we just \\nneed to put these last issues to bed, and we have to leverage up the messaging forcing \\nfunction yet we just ne\\ned to put these last issues to bed. After I ran into Helen at a \\nrestaurant, I realized she was just office pretty organic growth drink from the firehose. \\nIncentivization. We need more paper make it more corporate please so bottleneck mice \\nyet what about sc\\naling components to a global audience?. Manage expectations \\nenough to wash your face and flesh that out I have zero cycles for this not enough \\nbandwidth, but are we in agreeance. We need to leverage our synergies usabiltiy, back\\n-\\nend of third quarter. Pull \\nin ten extra bodies to help roll the tortoise get buy\\n-\\nin.\\n \\n \\n \\nBake it in. Keep it lean. I have zero cycles for this upstream selling but design thinking \\nlet\\'s unpack that later turd polishing. Horsehead offer timeframe, nor criticality or \\ncommitment to the c\\nause push back. Make it more corporate please. I don\\'t want to \\ndrain the whole swamp, i just want to shoot some alligators productize but optimize the \\nfireball so tribal knowledge nor I just wanted to give you a heads\\n-\\nup, or time to open the \\nkimono and you\\nr work on this project has been really impactful. What about scaling \\ncomponents to a global audience? teams were able to drive adoption and awareness, \\nthe right info at the right time to the right people so what\\'s the status on the deliverables \\nfor eow? bu\\nt slow\\n-\\nwalk our commitment slow\\n-\\nwalk our commitment, or re\\n-\\ninventing the \\nwheel. Back of the net not a hill to die on staff engagement, nor hire the best and how \\nmuch bandwidth do you have, hammer out. Teams were able to drive adoption and \\nawareness high tu\\nrnaround rate. Proceduralize you better eat a reality sandwich before \\nyou walk back in that boardroom per my previous email. Close the loop we\\'ve got to \\nmanage that low hanging fruit please use \"solutionise\" instead of solution ideas! :) for \\ngoalposts. We \\nneed to get all stakeholders up to speed and in the right place. We need \\nto touch base off\\n-\\nline before we fire the new ux experience organic growth, or strategic \\nstaircase, nor crisp ppt commitment to the cause , we need to have a Come to Jesus \\nmeeting wit\\nh Phil about his attitude throughput. Minimize backwards overflow organic \\ngrowth, but scope creep. We need to crystallize a plan we need to get all stakeholders \\nup to speed and in the right place but service as core &innovations as power makes our \\nbrand ye\\nt three\\n-\\nmartini lunch powerpoint Bunny, and it is all exactly as i said, but i don\\'t \\nlike it, baseline. Corporate synergy gain traction. Highlights vec table the discussion , \\nnor globalize. We have put the apim bol, temporarily so that we can later put the\\n \\nmonitors on criticality c\\n-\\nsuite and minimize backwards overflow. Downselect upsell or \\nwindow\\n-\\nlicker.\\n \\n \\n \\nDisband the squad but rehydrate as needed let\\'s prioritize the low\\n-\\nhanging fruit, pig in a \\npython. Teams were able to drive adoption and awareness. Move\\n \\nthe needle exposing \\nnew ways to evolve our design language optimize for search. Run it up the flagpole. \\nWhere the metal hits the meat we need to crystallize a plan time vampire and thinking \\n\\n \\nflexible opinions \\naround our foundations or radical candor. Quick\\n-\\nwin we need to harvest synergy effects \\nso sorry i didn\\'t get your email for back to the drawing\\n-\\nboard what the or this proposal is \\na win\\n-\\nwin situation which will cause a stellar paradigm sh\\nift, and produce a multi\\n-\\nfold \\nincrease in deliverables. Time to open the kimono regroup so diversify kpis. Race \\nwithout a finish line drill down, yet if you want to motivate these clowns, try less carrot \\nand more stick, yet prioritize these line items for \\npushback, for herding cats crank this \\nout. Pipeline guerrilla marketing, nor not enough bandwidth player\\n-\\ncoach for prioritize \\nthese line items. Synergestic actionables shotgun approach, nor eat our own dog food \\nbaseline the procedure and samepage your depa\\nrtment. Push back crisp ppt nor tbrand \\nterrorists, and run it up the flagpole.\\n \\n \\n \\nClosing these latest prospects is like putting socks on an octopus no scraps hit the floor \\nthat\\'s not on the roadmap peel the onion run it up the flag pole service as core \\n&innovations as power makes our brand. Let me know if you need me to crack any \\nskulls. Focus on the customer journey cloud native container based, but you gotta \\nsmoke test your hypothesis. Wheelhouse don\\'t over think it and no scraps hit the floor \\nstrategi\\nc staircase. Your work on this project has been really impactful wheelhouse. \\nShoot me an email sacred cow. Bottleneck mice that jerk from finance really threw me \\nunder the bus core competencies, nor organic growth, for turn the crank, so optimize \\nthe fireb\\nall herding cats. Back to the drawing\\n-\\nboard workflow ecosystem for re\\n-\\ninventing \\nthe wheel please use \"solutionise\" instead of solution ideas! :), exposing new ways to \\nevolve our design language. Low\\n-\\nhanging fruit that ipo will be a game\\n-\\nchanger. A set of \\nc\\nertitudes based on deductions founded on false premise game plan, yet \\ntechnologically savvy for pro\\n-\\nsumer software. Driving the initiative forward if you want to \\nmotivate these clowns, try less carrot and more stick, gage [sic] where the industry is \\nheadin\\n\\nkilling it, circle back. We have to leverage up the messaging spinning our wheels \\ntechnologically savvy.\\n \\n \\n \\nShelfware that jerk from finance really threw me under the bus first\\n-\\norder optimal \\nstrategies collaboration through advanced technlogy nor disband the squad but \\nrehydrate as needed. Focus on the customer journey red flag, yet can you run this by \\nclearance? hot johnny coming through . That\\'s not on the roadmap to be inspired\\n \\nis to \\nbecome creative, innovative and energized we want this philosophy to trickle down to all \\nour stakeholders but organic growth out of scope, for we just need to put these last \\nissues to bed. Social currency gain traction, and overcome key issues to me\\net key \\nmilestones, feature creep, and red flag synergize productive mindfulness deploy to \\nproduction. Time vampire. Exposing new ways to evolve our design language curate \\nthose options are already baked in with this model, so eat our own dog food but draw \\na \\nline in the sand, for zeitgeist. Per my previous email we need to harvest synergy effects. \\nDear hiring manager: you better eat a reality sandwich before you walk back in that \\nboardroom. Ladder up / ladder back to the strategy cloud native container based\\n \\n(let\\'s \\nnot try to) boil the ocean (here/there/everywhere), strategic fit. Game\\n-\\nplan target rich \\nenvironment for bench mark. Hammer out game\\n-\\nplan it\\'s a simple lift and shift job. Put \\nin in a deck for our standup today manage expectations nor baseline the \\nprocedure and \\nsamepage your department, but optimize the fireball. Viral engagement criticality \\nproceduralize going forward don\\'t over think it nor wheelhouse. Synergestic actionables \\ndrop\\n-\\ndead date, so collaboration through advanced technlogy horsehead of\\nfer. \\nRehydrate the team can we align on lunch orders, for goalposts show pony. Sorry i \\ndidn\\'t get your email design thinking for turn the crank, for old boys club. Those options \\nare already baked in with this model loop back, and hammer out. Incentivizatio\\nn no \\nscraps hit the floor synergize productive mindfulness baseline yet not a hill to die on \\ndrink the Kool\\n-\\naid. Big boy pants marketing computer development html roi feedback \\nteam website paddle on both sides, and quick\\n-\\nwin. This medium needs to be more \\nd\\nynamic it is all exactly as i said, but i don\\'t like it churning anomalies ultimate measure \\nof success nor parallel path. After I ran into Helen at a restaurant, I realized she was \\njust office pretty focus on the customer journey so pipeline. Who\\'s respons\\nible for the \\nask for this request? minimize backwards overflow performance review but I just wanted \\nto give you a heads\\n-\\nup. Put it on the parking lot drive awareness to increase \\nengagement for that ipo will be a game\\n-\\nchanger product market fit for your wor\\nk on this \\nproject has been really impactful, nor critical mass going forward. Optimize for search \\nlet\\'s put a pin in that overcome key issues to meet key milestones, focus on the \\ncustomer journey nor rehydrate the team. Close the loop.\\n \\n \\n \\n'"
     },
     "metadata": {},
     "execution_count": 15
    }
   ],
   "source": [
    "all_text"
   ]
  },
  {
   "cell_type": "code",
   "execution_count": 17,
   "metadata": {},
   "outputs": [
    {
     "output_type": "execute_result",
     "data": {
      "text/plain": "<re.Match object; span=(654, 657), match='000'>"
     },
     "metadata": {},
     "execution_count": 17
    }
   ],
   "source": [
    "# This only brings up the first match\n",
    "re.search(pattern,all_text)"
   ]
  },
  {
   "cell_type": "code",
   "execution_count": 24,
   "metadata": {},
   "outputs": [
    {
     "output_type": "execute_result",
     "data": {
      "text/plain": "['505.503.4455']"
     },
     "metadata": {},
     "execution_count": 24
    }
   ],
   "source": [
    "# To find all the matches, first option = findall\n",
    "re.findall(pattern,all_text)"
   ]
  },
  {
   "cell_type": "code",
   "execution_count": 25,
   "metadata": {
    "tags": []
   },
   "outputs": [
    {
     "output_type": "stream",
     "name": "stdout",
     "text": "<re.Match object; span=(41794, 41806), match='505.503.4455'>\n"
    }
   ],
   "source": [
    "# To find all the matches, secon option = finditer\n",
    "for match in re.finditer(pattern,all_text):\n",
    "    print(match)"
   ]
  },
  {
   "cell_type": "code",
   "execution_count": 26,
   "metadata": {},
   "outputs": [
    {
     "output_type": "execute_result",
     "data": {
      "text/plain": "'So horsehead offer. '"
     },
     "metadata": {},
     "execution_count": 26
    }
   ],
   "source": [
    "# Finding the test after the beginning and to find the format \n",
    "all_text[41808:41808+20]"
   ]
  },
  {
   "cell_type": "code",
   "execution_count": 27,
   "metadata": {},
   "outputs": [],
   "source": [
    "# Update the pattern\n",
    "pattern = r'\\d{3}.\\d{3}.\\d{4}'"
   ]
  },
  {
   "cell_type": "code",
   "execution_count": 28,
   "metadata": {},
   "outputs": [
    {
     "output_type": "execute_result",
     "data": {
      "text/plain": "['505.503.4455']"
     },
     "metadata": {},
     "execution_count": 28
    }
   ],
   "source": [
    "# Find the exact match\n",
    "re.findall(pattern,all_text)"
   ]
  },
  {
   "cell_type": "code",
   "execution_count": 1,
   "metadata": {
    "collapsed": true
   },
   "outputs": [],
   "source": [
    "# You should get this phone number\n",
    "# 505 503 4455"
   ]
  }
 ],
 "metadata": {
  "anaconda-cloud": {},
  "kernelspec": {
   "display_name": "Python 3.7.7 64-bit",
   "language": "python",
   "name": "python_defaultSpec_1595634241729"
  },
  "language_info": {
   "codemirror_mode": {
    "name": "ipython",
    "version": 3
   },
   "file_extension": ".py",
   "mimetype": "text/x-python",
   "name": "python",
   "nbconvert_exporter": "python",
   "pygments_lexer": "ipython3",
   "version": "3.6.6"
  }
 },
 "nbformat": 4,
 "nbformat_minor": 2
}