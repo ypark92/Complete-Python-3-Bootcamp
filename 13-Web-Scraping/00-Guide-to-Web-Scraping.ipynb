{
 "cells": [
  {
   "cell_type": "markdown",
   "metadata": {},
   "source": [
    "___\n",
    "\n",
    "<a href='https://www.udemy.com/user/joseportilla/'><img src='../Pierian_Data_Logo.png'/></a>\n",
    "___\n",
    "<center><em>Content Copyright by Pierian Data</em></center>"
   ]
  },
  {
   "cell_type": "markdown",
   "metadata": {},
   "source": [
    "# Guide to Web Scraping\n",
    "\n",
    "Let's get you started with web scraping and Python. Before we begin, here are some important rules to follow and understand:\n",
    "\n",
    "1. Always be respectful and try to get premission to scrape, do not bombard a website with scraping requests, otherwise your IP address may be blocked!\n",
    "2. Be aware that websites change often, meaning your code could go from working to totally broken from one day to the next.\n",
    "3. Pretty much every web scraping project of interest is a unique and custom job, so try your best to generalize the skills learned here.\n",
    "\n",
    "OK, let's get started with the basics!\n",
    "\n",
    "## Basic components of a WebSite\n",
    "\n",
    "### HTML\n",
    "HTML stands for  Hypertext Markup Language and every website on the internet uses it to display information. Even the jupyter notebook system uses it to display this information in your browser. If you right click on a website and select \"View Page Source\" you can see the raw HTML of a web page. This is the information that Python will be looking at to grab information from. Let's take a look at a simple webpage's HTML:\n",
    "\n",
    "    <!DOCTYPE html>  \n",
    "    <html>  \n",
    "        <head>\n",
    "            <title>Title on Browser Tab</title>\n",
    "        </head>\n",
    "        <body>\n",
    "            <h1> Website Header </h1>\n",
    "            <p> Some Paragraph </p>\n",
    "        <body>\n",
    "    </html>"
   ]
  },
  {
   "cell_type": "markdown",
   "metadata": {},
   "source": [
    "Let's breakdown these components.\n",
    "\n",
    "Every <tag> indicates a specific block type on the webpage:\n",
    "\n",
    "    1.<DOCTYPE html> HTML documents will always start with this type declaration, letting the browser know its an HTML file.\n",
    "    2. The component blocks of the HTML document are placed between <html> and </html>.\n",
    "    3. Meta data and script connections (like a link to a CSS file or a JS file) are often placed in the <head> block.\n",
    "    4. The <title> tag block defines the title of the webpage (its what shows up in the tab of a website you're visiting).\n",
    "    5. Is between <body> and </body> tags are the blocks that will be visible to the site visitor.\n",
    "    6. Headings are defined by the <h1> through <h6> tags, where the number represents the size of the heading.\n",
    "    7. Paragraphs are defined by the <p> tag, this is essentially just normal text on the website.\n",
    "\n",
    "    There are many more tags than just these, such as <a> for hyperlinks, <table> for tables, <tr> for table rows, and <td> for table columns, and more!"
   ]
  },
  {
   "cell_type": "markdown",
   "metadata": {},
   "source": [
    "### CSS\n",
    "\n",
    "CSS stands for Cascading Style Sheets, this is what gives \"style\" to a website, including colors and fonts, and even some animations! CSS uses tags such as **id** or **class** to connect an HTML element to a CSS feature, such as a particular color. **id** is a unique id for an HTML tag and must be unique within the HTML document, basically a single use connection. **class** defines a general style that can then be linked to multiple HTML tags. Basically if you only want a single html tag to be red, you would use an id tag, if you wanted several HTML tags/blocks to be red, you would create a class in your CSS doc and then link it to the rest of these blocks."
   ]
  },
  {
   "cell_type": "markdown",
   "metadata": {},
   "source": [
    "### Scraping Guidelines\n",
    "\n",
    "Keep in mind you should always have permission for the website you are scraping! Check a websites terms and conditions for more info. Also keep in mind that a computer can send requests to a website very fast, so a website may block your computer's ip address if you send too many requests too quickly. Lastly, websites change all the time! You will most likely need to update your code often for long term web-scraping jobs."
   ]
  },
  {
   "cell_type": "markdown",
   "metadata": {},
   "source": [
    "## Web Scraping with Python\n",
    "\n",
    "There are a few libraries you will need, you can go to your command line and install them with conda install (if you are using anaconda distribution), or pip install for other python distributions.\n",
    "\n",
    "    conda install requests\n",
    "    conda install lxml\n",
    "    conda install bs4\n",
    "    \n",
    "if you are not using the Anaconda Installation, you can use **pip install** instead of **conda install**, for example:\n",
    "\n",
    "    pip install requests\n",
    "    pip install lxml\n",
    "    pip install bs4\n",
    "    \n",
    "Now let's see what we can do with these libraries.\n",
    "\n",
    "----"
   ]
  },
  {
   "cell_type": "markdown",
   "metadata": {},
   "source": [
    "### Example Task 0 - Grabbing the title of a page\n",
    "\n",
    "Let's start very simple, we will grab the title of a page. Remember that this is the HTML block with the **title** tag. For this task we will use **www.example.com** which is a website specifically made to serve as an example domain. Let's go through the main steps:"
   ]
  },
  {
   "cell_type": "code",
   "execution_count": 3,
   "metadata": {
    "tags": []
   },
   "outputs": [
    {
     "output_type": "stream",
     "name": "stdout",
     "text": "Collecting requests\n  Downloading requests-2.24.0-py2.py3-none-any.whl (61 kB)\n\u001b[K     |████████████████████████████████| 61 kB 696 kB/s \n\u001b[?25hCollecting certifi>=2017.4.17\n  Downloading certifi-2020.6.20-py2.py3-none-any.whl (156 kB)\n\u001b[K     |████████████████████████████████| 156 kB 2.2 MB/s \n\u001b[?25hCollecting urllib3!=1.25.0,!=1.25.1,<1.26,>=1.21.1\n  Downloading urllib3-1.25.10-py2.py3-none-any.whl (127 kB)\n\u001b[K     |████████████████████████████████| 127 kB 7.3 MB/s \n\u001b[?25hCollecting idna<3,>=2.5\n  Downloading idna-2.10-py2.py3-none-any.whl (58 kB)\n\u001b[K     |████████████████████████████████| 58 kB 7.7 MB/s \n\u001b[?25hCollecting chardet<4,>=3.0.2\n  Downloading chardet-3.0.4-py2.py3-none-any.whl (133 kB)\n\u001b[K     |████████████████████████████████| 133 kB 5.8 MB/s \n\u001b[?25hInstalling collected packages: certifi, urllib3, idna, chardet, requests\nSuccessfully installed certifi-2020.6.20 chardet-3.0.4 idna-2.10 requests-2.24.0 urllib3-1.25.10\nNote: you may need to restart the kernel to use updated packages.\n"
    }
   ],
   "source": [
    "pip install requests"
   ]
  },
  {
   "cell_type": "code",
   "execution_count": 5,
   "metadata": {
    "collapsed": true
   },
   "outputs": [],
   "source": [
    "import requests"
   ]
  },
  {
   "cell_type": "code",
   "execution_count": 6,
   "metadata": {
    "collapsed": true
   },
   "outputs": [],
   "source": [
    "# Step 1: Use the requests library to grab the page\n",
    "# Note, this may fail if you have a firewall blocking Python/Jupyter \n",
    "# Note sometimes you need to run this twice if it fails the first time\n",
    "res = requests.get(\"http://www.example.com\")"
   ]
  },
  {
   "cell_type": "markdown",
   "metadata": {},
   "source": [
    "This object is a requests.models.Response object and it actually contains the information from the website, for example:"
   ]
  },
  {
   "cell_type": "code",
   "execution_count": 7,
   "metadata": {},
   "outputs": [
    {
     "output_type": "execute_result",
     "data": {
      "text/plain": "requests.models.Response"
     },
     "metadata": {},
     "execution_count": 7
    }
   ],
   "source": [
    "type(res)"
   ]
  },
  {
   "cell_type": "code",
   "execution_count": 8,
   "metadata": {},
   "outputs": [
    {
     "output_type": "execute_result",
     "data": {
      "text/plain": "'<!doctype html>\\n<html>\\n<head>\\n    <title>Example Domain</title>\\n\\n    <meta charset=\"utf-8\" />\\n    <meta http-equiv=\"Content-type\" content=\"text/html; charset=utf-8\" />\\n    <meta name=\"viewport\" content=\"width=device-width, initial-scale=1\" />\\n    <style type=\"text/css\">\\n    body {\\n        background-color: #f0f0f2;\\n        margin: 0;\\n        padding: 0;\\n        font-family: -apple-system, system-ui, BlinkMacSystemFont, \"Segoe UI\", \"Open Sans\", \"Helvetica Neue\", Helvetica, Arial, sans-serif;\\n        \\n    }\\n    div {\\n        width: 600px;\\n        margin: 5em auto;\\n        padding: 2em;\\n        background-color: #fdfdff;\\n        border-radius: 0.5em;\\n        box-shadow: 2px 3px 7px 2px rgba(0,0,0,0.02);\\n    }\\n    a:link, a:visited {\\n        color: #38488f;\\n        text-decoration: none;\\n    }\\n    @media (max-width: 700px) {\\n        div {\\n            margin: 0 auto;\\n            width: auto;\\n        }\\n    }\\n    </style>    \\n</head>\\n\\n<body>\\n<div>\\n    <h1>Example Domain</h1>\\n    <p>This domain is for use in illustrative examples in documents. You may use this\\n    domain in literature without prior coordination or asking for permission.</p>\\n    <p><a href=\"https://www.iana.org/domains/example\">More information...</a></p>\\n</div>\\n</body>\\n</html>\\n'"
     },
     "metadata": {},
     "execution_count": 8
    }
   ],
   "source": [
    "res.text"
   ]
  },
  {
   "cell_type": "markdown",
   "metadata": {},
   "source": [
    "____\n",
    "Now we use BeautifulSoup to analyze the extracted page. Technically we could use our own custom script to loook for items in the string of **res.text** but the BeautifulSoup library already has lots of built-in tools and methods to grab information from a string of this nature (basically an HTML file). Using BeautifulSoup we can create a \"soup\" object that contains all the \"ingredients\" of the webpage. Don't ask me about the weird library names, I didn't choose them! :)"
   ]
  },
  {
   "cell_type": "code",
   "execution_count": 9,
   "metadata": {
    "tags": []
   },
   "outputs": [
    {
     "output_type": "stream",
     "name": "stdout",
     "text": "Requirement already satisfied: bs4 in /usr/local/lib/python3.7/site-packages (0.0.1)\nRequirement already satisfied: beautifulsoup4 in /usr/local/lib/python3.7/site-packages (from bs4) (4.9.1)\nRequirement already satisfied: soupsieve>1.2 in /usr/local/lib/python3.7/site-packages (from beautifulsoup4->bs4) (2.0.1)\nNote: you may need to restart the kernel to use updated packages.\n"
    }
   ],
   "source": [
    "pip install bs4"
   ]
  },
  {
   "cell_type": "code",
   "execution_count": 10,
   "metadata": {
    "collapsed": true
   },
   "outputs": [],
   "source": [
    "import bs4"
   ]
  },
  {
   "cell_type": "code",
   "execution_count": 3,
   "metadata": {
    "tags": []
   },
   "outputs": [
    {
     "output_type": "stream",
     "name": "stdout",
     "text": "Requirement already satisfied: lxml in /usr/local/lib/python3.7/site-packages (4.5.2)\nNote: you may need to restart the kernel to use updated packages.\n"
    }
   ],
   "source": [
    "pip install lxml"
   ]
  },
  {
   "cell_type": "code",
   "execution_count": 11,
   "metadata": {
    "collapsed": true
   },
   "outputs": [],
   "source": [
    "soup = bs4.BeautifulSoup(res.text,\"lxml\")"
   ]
  },
  {
   "cell_type": "code",
   "execution_count": 12,
   "metadata": {},
   "outputs": [
    {
     "output_type": "execute_result",
     "data": {
      "text/plain": "<!DOCTYPE html>\n<html>\n<head>\n<title>Example Domain</title>\n<meta charset=\"utf-8\"/>\n<meta content=\"text/html; charset=utf-8\" http-equiv=\"Content-type\"/>\n<meta content=\"width=device-width, initial-scale=1\" name=\"viewport\"/>\n<style type=\"text/css\">\n    body {\n        background-color: #f0f0f2;\n        margin: 0;\n        padding: 0;\n        font-family: -apple-system, system-ui, BlinkMacSystemFont, \"Segoe UI\", \"Open Sans\", \"Helvetica Neue\", Helvetica, Arial, sans-serif;\n        \n    }\n    div {\n        width: 600px;\n        margin: 5em auto;\n        padding: 2em;\n        background-color: #fdfdff;\n        border-radius: 0.5em;\n        box-shadow: 2px 3px 7px 2px rgba(0,0,0,0.02);\n    }\n    a:link, a:visited {\n        color: #38488f;\n        text-decoration: none;\n    }\n    @media (max-width: 700px) {\n        div {\n            margin: 0 auto;\n            width: auto;\n        }\n    }\n    </style>\n</head>\n<body>\n<div>\n<h1>Example Domain</h1>\n<p>This domain is for use in illustrative examples in documents. You may use this\n    domain in literature without prior coordination or asking for permission.</p>\n<p><a href=\"https://www.iana.org/domains/example\">More information...</a></p>\n</div>\n</body>\n</html>"
     },
     "metadata": {},
     "execution_count": 12
    }
   ],
   "source": [
    "soup"
   ]
  },
  {
   "cell_type": "markdown",
   "metadata": {},
   "source": [
    "Now let's use the **.select()** method to grab elements. We are looking for the 'title' tag, so we will pass in 'title'\n"
   ]
  },
  {
   "cell_type": "code",
   "execution_count": 13,
   "metadata": {},
   "outputs": [
    {
     "output_type": "execute_result",
     "data": {
      "text/plain": "[<title>Example Domain</title>]"
     },
     "metadata": {},
     "execution_count": 13
    }
   ],
   "source": [
    "soup.select('title')"
   ]
  },
  {
   "cell_type": "markdown",
   "metadata": {},
   "source": [
    "Notice what is returned here, its actually a list containing all the title elements (along with their tags). You can use indexing or even looping to grab the elements from the list. Since this object it still a specialized tag, we cna use method calls to grab just the text."
   ]
  },
  {
   "cell_type": "code",
   "execution_count": 14,
   "metadata": {
    "collapsed": true
   },
   "outputs": [],
   "source": [
    "title_tag = soup.select('title')"
   ]
  },
  {
   "cell_type": "code",
   "execution_count": 15,
   "metadata": {},
   "outputs": [
    {
     "output_type": "execute_result",
     "data": {
      "text/plain": "<title>Example Domain</title>"
     },
     "metadata": {},
     "execution_count": 15
    }
   ],
   "source": [
    "title_tag[0]"
   ]
  },
  {
   "cell_type": "code",
   "execution_count": 16,
   "metadata": {},
   "outputs": [
    {
     "output_type": "execute_result",
     "data": {
      "text/plain": "bs4.element.Tag"
     },
     "metadata": {},
     "execution_count": 16
    }
   ],
   "source": [
    "type(title_tag[0])"
   ]
  },
  {
   "cell_type": "code",
   "execution_count": 17,
   "metadata": {},
   "outputs": [
    {
     "output_type": "execute_result",
     "data": {
      "text/plain": "'Example Domain'"
     },
     "metadata": {},
     "execution_count": 17
    }
   ],
   "source": [
    "title_tag[0].getText()"
   ]
  },
  {
   "cell_type": "markdown",
   "metadata": {},
   "source": [
    "### Example Task 1 - Grabbing all elements of a class\n",
    "\n",
    "Let's try to grab all the section headings of the Wikipedia Article on Grace Hopper from this URL: https://en.wikipedia.org/wiki/Grace_Hopper"
   ]
  },
  {
   "cell_type": "code",
   "execution_count": 18,
   "metadata": {
    "collapsed": true
   },
   "outputs": [],
   "source": [
    "# First get the request\n",
    "res = requests.get('https://en.wikipedia.org/wiki/Grace_Hopper')"
   ]
  },
  {
   "cell_type": "code",
   "execution_count": 19,
   "metadata": {
    "collapsed": true
   },
   "outputs": [],
   "source": [
    "# Create a soup from request\n",
    "soup = bs4.BeautifulSoup(res.text,\"lxml\")"
   ]
  },
  {
   "cell_type": "markdown",
   "metadata": {},
   "source": [
    "Now its time to figure out what we are actually looking for. Inspect the element on the page to see that the section headers have the class \"mw-headline\". Because this is a class and not a straight tag, we need to adhere to some syntax for CSS. In this case"
   ]
  },
  {
   "cell_type": "markdown",
   "metadata": {},
   "source": [
    "<table>\n",
    "\n",
    "<thead >\n",
    "<tr>\n",
    "<th>\n",
    "<p>Syntax to pass to the .select() method</p>\n",
    "</th>\n",
    "<th>\n",
    "<p>Match Results</p>\n",
    "</th>\n",
    "</tr>\n",
    "</thead>\n",
    "<tbody>\n",
    "<tr>\n",
    "<td>\n",
    "<p><code>soup.select('div')</code></p>\n",
    "</td>\n",
    "<td>\n",
    "<p>All elements with the <code>&lt;div&gt;</code> tag</p>\n",
    "</td>\n",
    "</tr>\n",
    "<tr>\n",
    "<td>\n",
    "<p><code>soup.select('#some_id')</code></p>\n",
    "</td>\n",
    "<td>\n",
    "<p>The HTML element containing the <code>id</code> attribute of <code>some_id</code></p>\n",
    "</td>\n",
    "</tr>\n",
    "<tr>\n",
    "<td>\n",
    "<p><code>soup.select('.notice')</code></p>\n",
    "</td>\n",
    "<td>\n",
    "<p>All the HTML elements with the CSS <code>class</code> named <code>notice</code></p>\n",
    "</td>\n",
    "</tr>\n",
    "<tr>\n",
    "<td>\n",
    "<p><code>soup.select('div span')</code></p>\n",
    "</td>\n",
    "<td>\n",
    "<p>Any elements named <code>&lt;span&gt;</code> that are within an element named <code>&lt;div&gt;</code></p>\n",
    "</td>\n",
    "</tr>\n",
    "<tr>\n",
    "<td>\n",
    "<p><code>soup.select('div &gt; span')</code></p>\n",
    "</td>\n",
    "<td>\n",
    "<p>Any elements named <code class=\"literal2\">&lt;span&gt;</code> that are <span><em >directly</em></span> within an element named <code class=\"literal2\">&lt;div&gt;</code>, with no other element in between</p>\n",
    "</td>\n",
    "</tr>\n",
    "<tr>\n",
    "\n",
    "</tr>\n",
    "</tbody>\n",
    "</table>"
   ]
  },
  {
   "cell_type": "code",
   "execution_count": 20,
   "metadata": {},
   "outputs": [
    {
     "output_type": "execute_result",
     "data": {
      "text/plain": "[<span class=\"toctext\">Early life and education</span>,\n <span class=\"toctext\">Career</span>,\n <span class=\"toctext\">World War II</span>,\n <span class=\"toctext\">UNIVAC</span>,\n <span class=\"toctext\">COBOL</span>,\n <span class=\"toctext\">Standards</span>,\n <span class=\"toctext\">Retirement</span>,\n <span class=\"toctext\">Post-retirement</span>,\n <span class=\"toctext\">Anecdotes</span>,\n <span class=\"toctext\">Death</span>,\n <span class=\"toctext\">Dates of rank</span>,\n <span class=\"toctext\">Awards and honors</span>,\n <span class=\"toctext\">Military awards</span>,\n <span class=\"toctext\">Other awards</span>,\n <span class=\"toctext\">Legacy</span>,\n <span class=\"toctext\">Places</span>,\n <span class=\"toctext\">Programs</span>,\n <span class=\"toctext\">In popular culture</span>,\n <span class=\"toctext\">Grace Hopper Celebration of Women in Computing</span>,\n <span class=\"toctext\">Notes</span>,\n <span class=\"toctext\">Obituary notices</span>,\n <span class=\"toctext\">See also</span>,\n <span class=\"toctext\">References</span>,\n <span class=\"toctext\">Further reading</span>,\n <span class=\"toctext\">External links</span>]"
     },
     "metadata": {},
     "execution_count": 20
    }
   ],
   "source": [
    "# note depending on your IP Address, \n",
    "# this class may be called something different\n",
    "soup.select(\".toctext\")"
   ]
  },
  {
   "cell_type": "code",
   "execution_count": 21,
   "metadata": {
    "tags": []
   },
   "outputs": [
    {
     "output_type": "stream",
     "name": "stdout",
     "text": "Early life and education\nCareer\nWorld War II\nUNIVAC\nCOBOL\nStandards\nRetirement\nPost-retirement\nAnecdotes\nDeath\nDates of rank\nAwards and honors\nMilitary awards\nOther awards\nLegacy\nPlaces\nPrograms\nIn popular culture\nGrace Hopper Celebration of Women in Computing\nNotes\nObituary notices\nSee also\nReferences\nFurther reading\nExternal links\n"
    }
   ],
   "source": [
    "for item in soup.select(\".toctext\"):\n",
    "    print(item.text)"
   ]
  },
  {
   "cell_type": "markdown",
   "metadata": {},
   "source": [
    "### Example Task 3 - Getting an Image from a Website\n",
    "\n",
    "Let's attempt to grab the image of the Deep Blue Computer from this wikipedia article: https://en.wikipedia.org/wiki/Deep_Blue_(chess_computer)"
   ]
  },
  {
   "cell_type": "code",
   "execution_count": 22,
   "metadata": {
    "collapsed": true
   },
   "outputs": [],
   "source": [
    "res = requests.get(\"https://en.wikipedia.org/wiki/Deep_Blue_(chess_computer)\")"
   ]
  },
  {
   "cell_type": "code",
   "execution_count": 23,
   "metadata": {
    "collapsed": true
   },
   "outputs": [],
   "source": [
    "soup = bs4.BeautifulSoup(res.text,'lxml')"
   ]
  },
  {
   "cell_type": "code",
   "execution_count": 24,
   "metadata": {
    "collapsed": true
   },
   "outputs": [],
   "source": [
    "image_info = soup.select('.thumbimage')"
   ]
  },
  {
   "cell_type": "code",
   "execution_count": 25,
   "metadata": {},
   "outputs": [
    {
     "output_type": "execute_result",
     "data": {
      "text/plain": "[<img alt=\"\" class=\"thumbimage\" data-file-height=\"601\" data-file-width=\"400\" decoding=\"async\" height=\"331\" src=\"//upload.wikimedia.org/wikipedia/commons/thumb/b/be/Deep_Blue.jpg/220px-Deep_Blue.jpg\" srcset=\"//upload.wikimedia.org/wikipedia/commons/thumb/b/be/Deep_Blue.jpg/330px-Deep_Blue.jpg 1.5x, //upload.wikimedia.org/wikipedia/commons/b/be/Deep_Blue.jpg 2x\" width=\"220\"/>,\n <img alt=\"\" class=\"thumbimage\" data-file-height=\"600\" data-file-width=\"800\" decoding=\"async\" height=\"165\" src=\"//upload.wikimedia.org/wikipedia/commons/thumb/6/6f/Kasparov_Magath_1985_Hamburg-2.png/220px-Kasparov_Magath_1985_Hamburg-2.png\" srcset=\"//upload.wikimedia.org/wikipedia/commons/thumb/6/6f/Kasparov_Magath_1985_Hamburg-2.png/330px-Kasparov_Magath_1985_Hamburg-2.png 1.5x, //upload.wikimedia.org/wikipedia/commons/thumb/6/6f/Kasparov_Magath_1985_Hamburg-2.png/440px-Kasparov_Magath_1985_Hamburg-2.png 2x\" width=\"220\"/>]"
     },
     "metadata": {},
     "execution_count": 25
    }
   ],
   "source": [
    "image_info"
   ]
  },
  {
   "cell_type": "code",
   "execution_count": 26,
   "metadata": {},
   "outputs": [
    {
     "output_type": "execute_result",
     "data": {
      "text/plain": "2"
     },
     "metadata": {},
     "execution_count": 26
    }
   ],
   "source": [
    "len(image_info)"
   ]
  },
  {
   "cell_type": "code",
   "execution_count": 27,
   "metadata": {
    "collapsed": true
   },
   "outputs": [],
   "source": [
    "computer = image_info[0]"
   ]
  },
  {
   "cell_type": "code",
   "execution_count": 28,
   "metadata": {},
   "outputs": [
    {
     "output_type": "execute_result",
     "data": {
      "text/plain": "bs4.element.Tag"
     },
     "metadata": {},
     "execution_count": 28
    }
   ],
   "source": [
    "type(computer)"
   ]
  },
  {
   "cell_type": "markdown",
   "metadata": {},
   "source": [
    "You can make dictionary like calls for parts of the Tag, in this case, we are interested in the **src** , or \"source\" of the image, which should be its own .jpg or .png link:"
   ]
  },
  {
   "cell_type": "code",
   "execution_count": 29,
   "metadata": {},
   "outputs": [
    {
     "output_type": "execute_result",
     "data": {
      "text/plain": "'//upload.wikimedia.org/wikipedia/commons/thumb/b/be/Deep_Blue.jpg/220px-Deep_Blue.jpg'"
     },
     "metadata": {},
     "execution_count": 29
    }
   ],
   "source": [
    "computer['src']"
   ]
  },
  {
   "cell_type": "code",
   "execution_count": 36,
   "metadata": {},
   "outputs": [
    {
     "output_type": "execute_result",
     "data": {
      "text/plain": "bs4.element.Tag"
     },
     "metadata": {},
     "execution_count": 36
    }
   ],
   "source": [
    "type(computer)"
   ]
  },
  {
   "cell_type": "markdown",
   "metadata": {},
   "source": [
    "We can actually display it with a markdown cell with the following:\n",
    "\n",
    "    <img src='https://upload.wikimedia.org/wikipedia/commons/thumb/b/be/Deep_Blue.jpg/220px-Deep_Blue.jpg'>"
   ]
  },
  {
   "cell_type": "markdown",
   "metadata": {},
   "source": [
    "<img src='https://upload.wikimedia.org/wikipedia/commons/thumb/b/be/Deep_Blue.jpg/220px-Deep_Blue.jpg'>"
   ]
  },
  {
   "cell_type": "markdown",
   "metadata": {},
   "source": [
    "Now that you have the actual src link, you can grab the image with requests and get along with the .content attribute. Note how we had to add https:// before the link, if you don't do this, requests will complain (but it gives you a pretty descriptive error code)."
   ]
  },
  {
   "cell_type": "code",
   "execution_count": 30,
   "metadata": {
    "collapsed": true
   },
   "outputs": [],
   "source": [
    "image_link = requests.get('https://upload.wikimedia.org/wikipedia/commons/thumb/b/be/Deep_Blue.jpg/220px-Deep_Blue.jpg')"
   ]
  },
  {
   "cell_type": "code",
   "execution_count": 31,
   "metadata": {},
   "outputs": [
    {
     "output_type": "execute_result",
     "data": {
      "text/plain": "\\xe9\\xf8z\\xa9\\xd8:\\xfb\\x0fb\\xd1\\x82\\xe2\\\\yj\\xde\\t\\x1el\\x03\\xaey\\x0fe\\x12\\xda\\xd2\\xe0\\xe8PF\\xc8\\x03\\xf5\\xaf\\x9e?\\xd9\\x15\\xcb\\xa9\\xe5\\x98\\xb1\\\\^\\xe9\\x1e\\x15\\xc2\\xbaEC\\xe4jJe\\xc7Yo\\xef*\\xb8|\\xd8\\xf4|\\xba\\x196i0\\xab\\xe6\\xc9\\xe4\\x81?\\x1a\\xbee\\xbe\"\\xec\\x93\\xcd\\x15\\xb42\\xb8\\r7z\\xf9\\xff\\x00V\\xd1#\\xddGvK\\xb7\\x14\\x96\\xec^_\\x9b\\x86?\\xe2\\xea\\xc2}\\xe6\\xb3r\\xbe\\xe7\\xb6{\\x0c\\x9c&\\xf5_\\xe8\\xd6L\\xf7\\xa9eDz\\x85g\\xbb~\\xa7_D\\x86\\xb0w\\xff\\x00\\x8c\\xbdi\\x1d\\xcd3\\x9f\\xb4\\xd1\\xb8\\xb5Qv\\xaf\\x07h\\xecn\\xd0o]\\xdc\\xad_\\x9bn\\x08\\x12\\x00\\x90\\xd9:\\x01\\xddT\\xbc\\x8b8r\\xbbp\\x1aFQ:\\x835\\xea\\xc3\\x97\\x9e\\xb0\\x1e\\xcb\\x9fx\\x1f}h\\x1a\\x08\\x9c\\xa2{\\xa9Ge\\xcb\\xba\\xa0\\xc1\\x12\\x0cg9Q\\xe8\\x88\\xe8\\x1dZ\\xbe\\xe9\\xf7R\\x90\\xf0\\xb2<\\x9c\\xc8\\x19\\x93\\xe9\\xccQ\\xb4\\x9d9\\x11\\x94k\\xad$\\xd8\\x13\\xe3U\\xf0\\x08@\\x11\"=4-\\x1a#\\xc3\\xc6\\x9f\\n\\x1eT<\\x99C9\\xdf\\x19\\xfa\\r\\x1b\\xe55\\xb8\\x89\\xf9;\\x99\\xfeM_\\xd9\\xad\\'\\xd1l\\x01\\xa0\\x8c\\x0b\\x0eD\\x08M\\xb3I\\x8f\\x04\\ns\\xbf\\x9a\\xb3\\x8c\\xfc\\xb1\\x07i\\xc4\\x0bX\\xe6\\xafp\\xac\\xb4\\xaf\\xfaEX\\xfe\\x0b\\xb6\\x8c\\xa4\\x83(BL\\x19\\xd5\\xd4WL?j(\\xa6\\xb0\\xa0U\\x87\\x84\\x02\\xb8V\\xf8!9\\x92\\t\\xf6\\x1eF\\xbb\\xb1\\x1b6\\n\\x89L\\r\\xceCB?x\\xd3-iA\\xe2\\xb7\\r\"\\xcd\\xc6J\\x90\\xb7\\x94@\\xdc\\x0b\\x01I\\x9c\\xe631\\x90\\xaaNv\\xd2\\xd9\\xe8e;\\xbb\\x13j\\xa3\\x03z\\xe5\\xf3\\x99\\xfbQ\\xf0\\xae]K\\xc8\\x91\\xeeo\\x16R\\xe2@\\x8f7\\x8f\\x89\\xaf.~[\\x8f\\x02\\xc6\\x15\\x856e\\x16-(\\xf3X*\\xf7\\x9a\\xf2|\\xcc\\xbd\\xde\\xee\\xc8\\x9e\\xd7P\\xd0\\x01\\x96Z@\\xfb)\\x03\\xddGu\\xab\\xb6AK\\xeaQ\\x8e\\x15m08y\\xc7x\\x15l\\x06\\xa5\\x93\\xa95m\\x1e\\x93\\xea\\xa0Tly\\x1df\\xcd\\xe3(\\xfa\\xd8}\\xc8\\xfe\\xa9U\\xa9\\xe4_\\x0e=aD\\xdb\\xb4~\\x96\\xe8\\xafV>\\xaf.G$\\xc0{S\\x98\\xad2\\x189\\xe7\\xaf\\xb2\\x94#\\x00)\\xf6\\x92\\xa9\\xdd&\\rH\\xc4\\xa8\\xee\\xe8f\\xa2W\\xa0o\\x04\\x93\\x11\\xcb=)\\x08\\xb8j\\x8f\\x92\\xa8N[\\xc7\\xe1W\\xaaJ\\x04\\xc1\\xd4\\xfc(SpVP\\x95\\x07\\xf7\\xd4S\\xba\\xd2\\x96\\x88\\x1a\\xa8\\x11\\x00\\xfa\\t\\xaa \\xc6n\\x00t\\x98\\x9eB\\xa3\\xe4\\xc0s:\\x114\\x88\\'\\xf1J\\x81\\x96\\xf8\\x1e\\xc3F\\xd3]}!\\xab\\xaf\\xd9\\x9fun3\\xea\\xfa=\\x86\\x8d\\xdc>\\xd9<\\x9a@\\xfe\\x88\\xa3?\\xda\\xab\\x1f\\x11\\xaa\\xda\\x9dm\\x7f\\x9f\\xf0\\xa24\\xac\\xfaEi\\xbb^\\x8b1\\xf7\\n\\xc0+, \\x95\\x10\\x04u\\xe8\\x81]1\\xe7(\\x14Kx\\x97V\\x8d\\xc6\\xee\\xdb\\x08\\xe5\\xbc\\x9e5\\xe9\\x92\\xb3R\\x11\\x8a\\xac\\x88\\xf2\\xd6\\xf3\\xe4Q\\xf8S\\xdbF\\xc5{\\x10\\x17*I~\\xe9\\xa7\\x14\\x9c\\x81\\x94\\x8fuRi\\xa5\\xdb\\xd1\\x9e\\x18\\xc6+\\xb0XKo8\\xb2\\xcf\\\\\\xfb\\x85( \\xa5\\xcf\\x949\\x1fV\\xa3J\\xe5\\x96W\\x1c\\xb6\\xce<\\xacK\\xb6\\xaf\\x96\\xb4\\x9b6\\xd9Sa0K\\x84\\xcc\\xc9\\xff\\x00\\n\\xf2\\xe5/\\xa3\\xa4\\xd7\\xab\\xc1\\xa1g\\xd9_9\\xf4\\xe8\\x89_3H\\x11*\\x11S\\'\\xef@\\xcf\\xd5H\\xa4\\xde\\x9c\\xe9\\xd0=\\x07\\x95@\\xb7\\x89\\xeb0\\xdb\\xe4G\\x9dj\\xf2c\\xc5\\xb5S<\\x8a\\xe3+E\\x13j\\xc6\\x7f@{\\xab\\xd7\\x1el\\x85F}fY\\xe5\\xa7\\x8d<\\xb2b@*\\x19\\xe4i\\xda\\x16\\xd9a\\xbb\\xb6\\x94N\\xeaR\\xa9\\'\\x952\\x8f!7\\x90H\\x83\\x95\\x08\\x8e\\x1e\\xc1\\xe1\\x97\\xc2\\x98\\xb7\\xb4l4\\x9f\\'P\\x8e\\'\\xe1V\\x92h\\x19\\x15O\\x18\\xa3h\\xf6\\x17\\xba\\x8b\\x89\"T\\xc9H\\xcb\\\\\\xd3\\xf8S\\xea\\x82\\x9c\\xc8\\xd7\\xd1R5*\\x93\\x94\\xd0!\\xe4\\xc5\\xb9\\x9d7\\xc4O\\x85>\\xa5\\x02\\xf0\\xfc\\x95\\xc8\\xfb$i\\xa6U\\xb9\\xe63_IXN\\xeb(O$\\x81\\xec\\xacewm8\\xf8\\x8d&\\xd4y\\xd6\\xbe\\x0b\\xff\\x00\\x86\\xa8Z,5\\xc4)\\x85!iB\\x90NiZB\\x81\\xf4\\x1c\\xabV\\x04\\xe4\\xb7l\\x7f\\xd1\\xad?\\xdd\\xd1\\xf8S\\xa0xf\\xd7\\xfe\\xabi\\xfe\\xee\\x8f\\xc2\\x94U1k\\xff\\x00U\\xb4\\xff\\x00wG\\xe1R\\xd1l\\x92\\x84\\xbc\\x10\\xdbhBD\\xc2P\\x90\\x91\\xea\\x15_\\n7\\xf6C\\xe4=&\\xb1J\\x9eaA`B\\x8cx\\xd7\\xcc}T\\xa4G\\xa3\\xbe\\x96h\\xc8\\xef\\xf5R\\xc8\\x84~\\xe2\\x99\\x05*if\\x8a\\x93\\x15h\\x0e\\x91\\xbe\\x87\\x11\\xf5\\x9bZ}i\"\\x9d\\n\\xe2\\x9b2<\\x91\\x90N\\x89\\x00\\xd7\\xa7\\x17\\x9f!\\x87\\xf1\\xa7\\xb8\\x1fh\\xad\\xb2\\x19\\xef\\x06\\xa9\\xe4\\x16F\\x91\\xdfJ:\\x12\\x0f\\x85\\x1e\\x88\\xd5F\\xe9\\x02\\x01\\x8f\\x851\"a\\x92m\\xcc\\xf7\\xe5\\xea\\xa3z\\xa97M4\\xa6{\\xa2\\x11\\x07J\\x97,;\\xb2s\\xf8PM\\x073\\xdcr\\xa6\\xc1\\x0e\\xde\\xf9\\x08\\xfa[\\xf3\\xec\\xaa\\xf9HWQ\\xba\\xf8\\xcf<\\xabx\\xee\\xd8\\xc6~6\\xfaP+\\x9bq\\xe7v\\xac\\xfc\\xa5\\xb0\\xfb+\\xff\\x00\\x86\\x98\\x9a\\x9c\\x1a\\xdc\\x1bi:\\x92kI\\xb3K\\x02*\\x07\\x86\\x05H\\xe2\\xc8\\x8a\\x90v\\xa9\\x02\\xe0\\xf8V\\xaf\\x80\\xdfY\\x8f\\x9b\\xa7\\xd3\\xef\\xaeyy*a}\\xa7C\\xad\\xa7u\\xb7\\x80t\\x0eS\\xa8\\xf4\\x19\\x15\\xf3p\\xbd\\xf2e\\x1fW9\\xdbn>\\xc9l\\xf2\\xad\\xe9\\x8d\\xa5&\\x7f\\xfe\\xd3\\xa6vti\\xddN\\x99\\xd8\\x89\\x03.}\\xf5\\x01\\x122\\xa8%Zf\\xfa\\x01\\xe2b\\x90\\xe2Kt\\x94\\xa0\\xa0}\\x15\\x11\\xed\"\\xbd8\\xbc\\xf4T\\x8e\\xd3\\xbd\\xe8\\xf8\\x8a\\xd5\\x01\\xf1?\\x0c\\xea\\xf4\\x022\\x99q\\xb0\\xa3\\x91P\\x07\\xd7LF\\xc7h\\xeb\\x00\\xd1\\xce\\x89\\xaa\\x19+1\\xa7\\xae\\x99\\xb1b.\\x10>lfu3\\xec\\xa2\\x9f\\t\\xaa\\xcf\\x80\\x9a\\xa2c)\\x0b+\\x92rmJ\\xc8q\\x15\\xaa\\xc9\\x93\\xdec\\x85\\x04\\xc1\\xa9\\x9dj\\xe3C\\xc9\\xff\\x00D\\xf8\\xf2\\xaa\\x94;\\x82\\x07Zb@ \\xf1\\xd2Ek\\x1b\\xccg)\\xc5}(B\\x82\\xd2\\x14\\x92\\nH\\x90Eb\\xb4\\xf3\\x9bV\\xaf\\x9c[\\x8c\\xbfF\\xafx\\xadO\\t\\x1b\\x07\\x1f4O\\x89\\xa86B\\xa4\"iDUI\\x1e\\xdf\\xf5\\x85\\x9e\\xea\\xd5\\x11\\xbc\\xb4\\xca\\xdd\\x1e\\x15\\xca\\xf9iQ\\xb8\\xa6\\xee\\x91\\xe5L\\x14\\x96\\xddH})I\\x90\\x8d\\xec\\x96\\x9fB\\x87\\xa8\\xd7\\xca\\xf8{&\\xf1\\xf4\\xf3\\xff\\x00\\xaf\\xd2\\xbe\\xa6yw\\xe3\\x8es\\xedNhG\\n\\xf58\\x8e\\x92\\x07\\xe3P<p5\\x01\\x13\\xcb\\x9dH\\xf9\\xd3\\x85B\\xa5Y\\xe5t\\xc7\\xdfO\\xbcT\\x1cX\\xfb}]\\xfd\\xdbzn\\xbe\\xea}N+\\xf0\\xafF/=8!\"u\\x1b\\xc2\\t\\x9a\\xde\\x99\\x00\\x00bL\\xf7N\\x95z#\\x9b -$\\xf0P\\x9c\\xfb\\xea\\xda9\\x13\\xd6(\\x89\\x8c\\xe0\\xd5\\xe8v\\x12\\x84\\x03\\xce\\r1TL*z\\x85x\\xf1\\xf4P-\\xa9\\xba\\xf01TEh\\x80U$\\x89m@x\\x91\\xa5H2Ng\\xbeM$\\xc9\\x1b\\xdf\\x8d\\x01\"\\xd9\\x92\\xf3\\xed6Nn/vu\\x8c\\xb5\\xa5 \\xdf\\xb4Z\\xba\\xb9iA9,$\\x94\\xcck\\xdfN\\xfc3g\\x0f\\xa2\\xb8\\x1b\\xfdv\\x15lbJQ\\xd5\\xab\\xc59|*\\xbeV>\\x1a\\x8d\\xaa \\xde\\xb5\\xcc2}\\xf44f\\x12>h\\x8aS`\\x9a\\x81\\xe2\\x94E\\xe9J\\x02\\xdb7WU\\x11\\xbd\\xb7\\xc9\\x86\\xfe\\xe8\\xacV\\x94\\xa6\\t\\x81\\xe3\\x18\\x1d\\x8c\\xe3X\\xca\\xb1;\\x8cE\\xa4\\xba\\x94\\xa5\\xa0\\xd3l%9\\x90\\x94\\x8dw\\x81\\x19\\xf7W\\x8aI\\xbe&\\x9e\\xd9\\xa95\\x13\\xd0x\\x8a\\xd2\\x14\\x11\\xe8\\xa8QS\\xc3\\x95@D\\xe8hT@3\\xa4\\x0fk\\x95\\xcb\\'\\xed\\xa7\\xde*N5\\xc6\\xd3\\xd4\\xed\\x16.\\xd8>m\\xed\\xc7\\xa3\\xe5U^\\x8cf\\xdez\\x02Vw\\xd5\\x07 \\x92D\\xd6\\xb9\\xd3!\\x8d\\xe0\\x02\\x88;\\xa6`\\xf8TH\\x14&3\\x1cj\\x80\\xbb\\xc2D\\xf0\\xca\\xaf+\\xecE\\xa8n\\x1eziL(XQ\\x1eL\\xb8#%\\x1e\\x11\\xca\\x8b\\x12f\\xfac\\xbc\\xf3\\xaa\\x06o\\x89\\xd4U\\xa5\\xeaBF\\xf6\\xb5z5)\\x92\\x04\\x9c\\xb9kK\\'\\xb6V!i\\x82\\x12|b\\x82\\x88\\xf3\\x8b~\\xedkZ\\xb7\\x96\\xa7\\x11$\\xeb\\xe7S4\\xce\\\\\\xc7|l\\xbe\"\\x94\\x8b\\x9bu\\xa8\\xa7u\\xdd\\xe4\\xe5\"\\x08\\xcf\\xddU\\xbag\\x1f\\x07\\xed\\x0b\\xa5\\xcb\\xa6\\xca\\x88\\x90\\xc8\\x98\\xe7&\\x96\\xe0\\xb8_\\xea\\xa8\\xa9\\'\\x03P8\\x1aQ\\xae\\x1c\\xa9@\\xda\\x9e\\xda\\xcdTF\\xf5\\x89\\xea[\\xd7\\xcd\\x15\\x8a\\xd2\\x84\\xc2\\xf1\\x9ca\\xfcQ\\xb5\\xb5\\xb2\\x0cavE_(\\xfe!\\x88\\x07_\\xdc:\\xee4\\x89\\t=\\xc4\\xc5p\\xb5\\xeb\\x9e\\xcd\\xebr+\\x14\\x8e\\x91\\xdf\\xe3T\\x03 T\\x86@\\x11\\x1c(B\\'\\xbb:\\x83\\xcf\\xe3\\x1bk\\x81\\xe1\\x08\\xbc&\\xfd\\x87\\xef\\xed$y\\x1a\\t\\xdfS\\x83D\\xe9\\x1a\\xc4\\xe7F\\xe6\\xf4\\xdf\\xcb\\xcf[\\xd3\\x941\\'\\xdd\\x7f\\x1c\\xc4\\x1d\\xb9HK\\xef\\\\:\\xeb\\x81\"\\x00R\\x94U\\x90\\xe5\\x9eU\\xe9\\xc6\\xcfG\\x939e\\xd51\\x0b\\x1db\\x8e\\x87t\\xfb\\xab@\\xce\\xb0\\xf9\\xb2bI\\xf6T\\t\\xbd\\x97x\\xcef\\x9e\\x16\\x8e\\x90r\\x91=\\xf5z\\x1f\\xa1\\x15\\xa1\\xf3}\\xf4*\\x85\\x85\\x91\\xe4\\xebH\\x8f8\\xf1\\xf0\\xab\\xc2\\xd2l\\xaa;$\\x0fN\\xb5x\\xf2\\x08I\\xe1\\x07\\xd3R=\\xd6\\xd6\\xcb\\x85.\\x00\\x95@>p:\\x89\\xa3\\xc4!O\\xa3=\\x01\\x02\\xa8\\x8b\\xbcBs%):\\xe7N\\xd2+pn\\x80\\xe6\\xfbc^j\\xa7\\xd4d\\xed\\x1c.\\xe8\\xa7\\x11u\\x06HZT\"s$f#1\\x9eU\\x9c\\xfc3\\x87\\x15\\xb6}\\xe2u^\\xff\\x00d\\t\\x19s\\xe1V\\x1e\\x1b\\xad\\xc6\\x1a\\xbf\\x9a\\xb7\\xe1[\\t\\xa1u\\x03\\xc2\\xeaF8\\xac\\xa9AZ*B\\xe9\\xa27\\xc9 %;\\xc9\\x9c\\x84@\\xee\\xac\\xe8\\xa9\\xd4\\'J\\xf3=\\xa9H\\x12$\\x9a\\x10\\xa9<*\\xd0\\x199\\x19\\xa1\\n\\x93\\x1e\\x14&\\x93m\\xf1\\xa70\\r\\x96\\xbd\\xc4-\\xc4\\xbe\\x9d\\xd6\\x9bTN\\xe2\\x96wB\\xa3\\x8cL\\xd5\\xcd\\xe25\\x84\\x97.T5\\xb5\\xf5\\x8a|\\xa3\\xcb\\xad\\x97z\\\\l\\xa5\\x1b\\xce\\xad\\xa2\\xdb\\x93!\\xc9O\\x9cgPr5\\x9f\\x95\\x93\\xd9l\\xcb\\xd5\\xa0\\xbe\\xc3\\xad\\xae\\x9cS\\xab=\\xb0\\t\\xdeAR\\x15\\xa4\\xc4\\x8aq\\xc7\\xa9<Q\\x94\\xe9\\xe7?4xV\\xaf\\x9e\\xdfq]z\\xd2\\x81;\\xa9Q\\xde\\xe7\\x02k\\xd7~\\xaf\\x95d\\xdd\\xd3\\xd24\\xf5\\x9b\\xac\\xa1Av\\xe5gwx\\x15\\xc7\\x0c\\xeb\\xa7\\x0e7ab\\xeai\\xab\\x12\\xf5\\xab\\x88\\x0e\\x85\\xa4y\\xc1B\\x0e\\xb9Q\\xae\\x0c\\xbe\\xa8\\x8d]!HN\\xf1nr\\xe03\\xac\\xfd\\xcf;=\\xbb\\x9bu\\x12\\\\S`D\\x83\\xdfL\\x90n\\xb1\\xb5Y\\xb0\\x92\\x19RwI\\xccoS\\xc2\\x96\\x8d\\xd7Z\\xe5\\xdb\\x13\\xcfx\\n$[\\xafe\\x87`{\\x13u\\x87\\xd8\\xbds\\xb6\\xe6\\xce\\xe9\\xe6P\\xbb\\x8bw-\\xc7\\xc8\\xac\\xe4\\xa4g\\xacs\\xe2+]\\xb8\\xaf\\xcc\\xf2x\\xab6\\x16\\xb7\\xf7\\x8cY\\xdd\\xb5{n\\xcb\\xebm\\xab\\x84\\r\\xd4\\xbc\\x80`,\\t\\xcaFqY\\xed\\x86T\\x15\\xad\\x9d\\xe5nIH\\xe2x\\xd5\\xa1)\\x1ePi\\xe2\\x87\\x1b(XHT\\x13\\x9c\\x11 \\xeb\\xca\\rMr\\xf7=\\x10\\xd8a\\xd7X\\xcb\\x8b\\xbc\\xb4n\\xe5\\xd4\\x92P]\\x1b\\xc1\\n\\x02A\\x00\\xe5>4[\\xe8\\xc5^\\xcd]\\x16\\x1di\\xd9\\xcd*\\x06u\\xe3U\\x9b\\x8ayzP\\xb5\\x06\\xc9W\\x9d\\xc7\\xc7\\x8dg\\xa7\\xe1\\xd3//C\\x87+\\xe6\\xad\\xe7\\xc2\\xb6\\xcabUR\\x11*\\xa5\\x1a\\xea\\xb2\\xa6#,\\xfc\\xd5UDn\\xb7\\xd6\\xa8,\\xac\\x84\\xc4F\\xe09\\xd5\\xa4\\xa9\\x1a\\xcd\"+\\xc8\\xf6\\x8e\\x83\\x9et!:\\xc0\\x06f\\xa4\\xc5]\\xb6\\x8c\\xd4\\xa09\\xd6R\\x03\\xf8\\xfd\\xb2\\x1c\\xea\\xdbQq\\xd3\\xa2\\x1b\\x05J\\xf5\\n<y/)\\xd2\\xb5\\xc6)\\xfeF\\x9e\\xbe\\xc1\\xebk;\\x9b\\xa6\\x9a+z\\x02\\xa4J\\x93\\t\\xd72\\x9e\"\\xbb|>3\\xa9\\x9e\\xab\\x9f[<\\xbaRe\\x14\\xe1\\xce>Qq\\xf7Ez\\xbf\\xd3\\xcfw\\t\\xf1\\xd9{\\x13t\\x91\\x1dq\\x19\\x10e\\xb0~5_\\x87\\xfa\\xb5\\xfe\\xbb/f\\xba\\xdb\\x05e\\x84\\xee\\xb7p\\xa2\\x00\\xfaH\\x1f\\x8d7\\xa2\\xf3\\xfc\\xdd\\xa4~nA\\xc8\\xa9\\xa5}\\xe6\\xa8\\xf9W\\xdd|\\xc8\\x1b\\x98C*$\\x84Z\\x85s\\xea\\xa0\\xfb\\xa9\\x9d<\\xbd\\xd7\\xcc\\x94\\xdf\\xcdYD\\xb1\\xea?\\x85_/%\\xdf\\x08\\xac,\\x9e\\x16\\xfe3\\xfe\\x14|\\xbc\\x8f|1XZ\\x8c\\xfc\\x9b\\x06u\\xcf\\xfc)\\xf9y\\x0e\\xe8a\\xc2N\\x7f \\xc1\\xf0X\\xab\\xb3#\\xb9NN\\x14\\x80 \\xdb\\xb6\\x0fr\\x85W\\x1a\\xbb\\xa0\\x0e\\xe1R\\xac\\xad\\xd1\\xaf\\xd6\\x15vS\\xdd\\x03V\\x14G\\xfa8\\x8e\\xe5\\x0f\\xc6\\x8e\\xdb\\xeb\\x19\\xee\\x9e\\x86\\x8c(\\x05\\x93\\xe4\\xc7\\xc6r\\xf7\\xd5\\xdbZ\\xef{\\r\\x86\\x16\\xd8u\\xe2\\x0b\\xabE\\xb0\\x99R\\x94\\xbd\\xdfmf\\xe3}\\x86\\xfe\\xab\\x16\\xf3\\x13\\xb0U\\xbb\\x89g\\x17\\xb6*\\xdd;\\xb1v5\\xe1\\xc6\\xa9/\\xb2\\xf2\\xb7n\\xee-\\xae\\xecm1\\x0bd\\xb6\\xdb\\x17\\x96\\x8c\\xdd\\'p\\xf6{i\\x9c\\xa8\\x93\\\\:K\\xb9\\xb6\\xca\\xc9`[7\\x1fTT\\x92\\xc3\\x82\\xa0\"\\x1c\\x14\\xa3\\x1dX\\xdd1J>\\xc0\\xf6\\x0f\\x8dU&\\xb7r\\xad\\xd9\\x0bL\\x1e\\'9\\xa0*g1\\x06Xl\\x95\\xad)\\x81\\xa91^{\\x1e\\xcd\\xb5\\xbf\\xe5\\x07\\x958[\\xc3-\\xdf\\xbdp\\x1d\\x18A_\\xac\\xe8=u\\x9bd2Z\\x9fm\\x86m\\x06!\\x9b\\xaa\\xb6\\xc3[<\\x1cWZ\\xe7\\xfb)\\xcb\\xd6k\\x17?f\\xbb\\x1b{=\\x91\\xb1J\\x82\\xf1\\x0b\\x8b\\xbb\\xf5\\xf1\\x0b_V\\xdf\\xfb)\\xf8\\x9a\\xcd\\xb6\\xb51\\x91\\xe9,m\\xad\\xec\\x9b\\xdc\\xb2\\xb6f\\xd9\\x1c\\x9a@L\\xfax\\xd6t^\\x17\\xa7\\x94\\xcfG\\xbb\\xe7=\\xccB\\xdd^\\xbd\\xe1\\xf1\\xafO\\xc2~\\xf1\\xe5\\xf8\\xbf\\xdd\\xb9\\xe6u\\xe0\"\\xbe\\x93\\xe7\\x14\\x1f\\x0f\\x0eT\\x89tp\\'_\\x8d\\x06\\x1c\\x0epO\\xb2\\xa4t\\xcf\\x1f\\n\\xb4Xg\\x85D\\x84\\x98\\x9c\\xc7\\xa6\\xa0BH\\xa8\\x10\\x9c\\x8dD\\xc9\\xce8\\xd4u\\xeaI\\xf5\\xd0vf\\xb9\\x8a\\x845Yhc\\x84T\\xb6\\x90\\xd6\\x1a\\xe3\\xb8{\\x97n]Z2\\x95Jm\\x9b=\\xb58\\xb1\\xae\\xf4y\\xa3\\\\\\xf3\\x88\\xcf\\xbf\\x86}~\\xdc\\xb5#\\xbe=\\x1e\\xe9\\xdd\\xb6\\xb1\\xc8\\tY\\xddI \\x1d3\\x1e\\x83\\xcb\\xbe\\xbb\\xe3w%p\\xb3WN\\xab#\\xf3/D8&7v\\x10l,0;\\'\\x1cJ;K\\x84\\xb6\\x99\\x84\\x98\\x073\\xccW\\x9b9\\xbc\\xab\\xbfN\\xeb\\x18\\xf6\\x168U\\xea\\xadZq\\xb2\\xce\\xe3\\x89\\x0e\\tp\\xcc+>#\\xbe\\xb38\\xe1\\xae\\xed\\xf2\\x960\\xab\\xeeM\\x1f\\xfb\\xcav\\x8e\\x18]\\xef\\xd5G\\xa1b\\xae\\xe4\\x05\\xdd\\x8d\\xdd\\xbd\\xbb\\x8f\\xba\\x81\\xd56\\x92\\xb5\\x90\\xa0`\\x0c\\xc9\\x8afKO+\\xb2\\x18\\xdd\\x95\\xd0\\xb9\\xc5[\\xda?-\\xc3\\xafR|\\x91\\x0baL\\xa5\\x00\\x13\\x98\\xde\\x00\\x93\\xa8\\x9e M\\x17,g\\x0b\\x9a}\\xb6(\\xe2\\x1a\\tN\\xf2\\xe3\\x8c\\xcf\\xb5\"\\x0f\\x8dq\\xef\\xad\\xf6\\xc7\\x9e\\xb7\\xd9\\xfc1\\x95%n0n\\xdd\\x99\\xdf\\xb9Q^~\\x1a{+\\x85\\xce\\xe4\\xf6Ldo\\xd8X-\\x04 \\x04$e\\xb8\\x91\\x00z\\x05e\\xa4\\x86\\xcc\\x1a\\x82b\\x15 T\\x92\\x1b4\\'\\x87\\xe9\\xc0\\x05ti~~\\xa5\\xcd\\xb2\\xff\\x00\\xac\\x03\\xe3^\\x8f\\x85\\xbf\\xee\\xcf\\xd7\\xfa<\\xff\\x00\\x15?\\xdb\\xb5\\xce\\x13\\xcf\\xdf_Q\\xf2\\xfd\\x0e\\x1aiQ\\xd1\\xe3N4\\x1dh\\xe8\\xce8x\\xd5\\xb5\\x0e\\x139MGLW\\x85H\\xd5P\\xa9\\x84\\xf2\\xe3HaV\\xbd\\xd5\\x1d\\xd3w\\xa0\\xe9\\xfe5X\\xa1\\t\\xcb*\\t\\xa7>\\xf1P\\xfb\\x1aj \\xba\\x94\\xab\\xceJO\\x88\\xce\\xaf\"\\xda\\x0b\\xf9\\xb4\\xe0\\xd3\\xb2}\\xc6\\x91\\xe2:\\x1b\\xa4}\\xace\\x8f\\xc9\\xcdVO[-\\xb5\\xb9\\x85ZZ!A`\\x82\\xa2\\x11\\xdd\\xc8\\x13^Kw\\x95z0\\xf1\"\\xdd\\xd9\\xfd\\xa3f\\xfd\\xcb+T[8\\xdfYn\\x95%eiRd \\x18\\xe7\\xa4\\xe7\\xddY\\x97fp\\xf4At\\xa2\\x85\\xf1\\x00\\x93\\xc8q\\xa0\\xbc>\\xd5m\\xe6\\x1do\\xb1\\xf8\\xc5\\xd3\\xcc]\\xb4\\x13f\\xe9\\x95\\x04dJH\\x1a+\\x99\\x15K\\xce\\x8c\\xf2\\xd2\\xf4\\'\\x8b\\xe1\\xaete\\xb1\\xf8U\\xd5\\xba\\xd6\\xa5Z\\x84\\x02\\xe3i[{\\xd2\\xae3\"N\\x99q\\xa2\\xd9\\xbd3<=\\xbb\\xfb/\\x86\\xb8\\xb0[7,$\\x08\\xdci\\xd2\\x12=\\x04\\x1a.\\x11\\xbd\\xd79tw\\xd2cx\\x92\\xd9\\xc2\\xb6\\x99\\xd6\\xd8\\xc4\\x15\\x08f\\xf9P\\x86\\xae\\x0f\\x04\\xb9\\xc1\\x0b<\\xfc\\xd5w\\x1dy\\xe7\\xd2\\xd78\\xbd8u{\\xb8\\xbeV\\xbaB\\xd9Y\\x0e%A@\\xc1\\x04i\\\\]S\\x13\\x04\\x024\\xa1$2\\xbe\\x06\\xa4\\x98\\xca\\x16\\xac\\xc2Ls9T\\x9eG\\xa6F\\t\\xe8\\xc7\\x1cQVh\\x0c\\xae\\x00\\xe4\\xf2+\\xb7\\xc3\\xfe\\xf7\\x17\\x0f\\x89\\xfd\\xd5s9\\x1e\\xff\\x00\\x1a\\xfa\\xaf\\x95\\xa3\\xc2r\\x102\\xa1\\xae\\x04\\t\\xf1\\xa3d\\xe0\\x90\\x0esJ\\xd1c\\x9eT&NS\\x99\\xa8\\x84\\xb3\\x94zj\\x17\\x98\\x1a\\x8c\\x1dMh\\x1aU\\xacQ\\xa4@}DgU0\\xa0\\xf2\\xcf\\xc2\\x83\\xb6\\x03\"\\x8b\\xc9\\x84?\\nF\\x83sOeCH\\xd7=\\x86\\x1dV\\xe80\\x82c\\x9eT\\xab\\x1d7\\x8atk\\xf9\\xdfd\\xadp\\xcb\\xfd\\xa2\\xbbU\\x9b\\x8c2J\\x05\\x93;\\xc9\\x84\\xa4\\xa4\\x05e\\xa6\\\\+\\xc3k\\xd51\\xe1\\xeb\\xb0\\x9d\\x99\\xbe\\xb2\\xbe\\xb1\\xb8\\xfc\\xfe\\x87\\x11n\\xe2T[\\xfc\\xdc\\x84\\x17\\x12\\x04n\\xef\\x05\\xe5#\\x88\\x14\\r=\\x9f^)\\xd9\\xd1\\xe9{9\\x1a\\x8a\\xb6\\xb4\\xf0\\x1bY\\xb0W\\x18\\xd38\\xa5\\xbbX\\xc5\\xb5\\xb5\\x8d\\xe8P\\r*\\xc9KSAZ\\x80\\xa0\\xb0\\x0ert\\xac\\xdb\\xce\\xda\\x98\\xa2`]\\x1c\\xe2\\xb86\\x03g\\x86\\xd8c\\x18j\\xd3j\\xd0m\\xb7Wd\\xe2U \\xc8Q\\x01\\xc8\\x99\\xaa\\r-\\x16C\\x9dK}yB\\x9e\\xdd\\x1b\\xe5\\x00\\x84\\x95Fq\\xdd4\\xad>m\\xbdz\\xd9J\\x86JI\\x99\\x11\\xaduai\\xf4_\\xd2\\xeb\\x98:Y\\xc2\\xb6\\xa5\\xc7np\\x84\\xc2\\x19\\xbc\\x82\\xb7\\xac\\xc7\\x00\\xae.6?\\xdaH\\xd2FU\\xc7\\xa9\\xd3\\xdf8\\xbd=>\\xb7\\xa6N\\x98\\xc3\\xedZ\\xb9\\xb4f\\xe5\\xab\\x96.-\\x9eHq\\xa7XPZ\\x1cI\\xd1IP\\xc8\\x83^[\\xb8\\xf4&4\\xcbM\\x1f\\x93F|\\xcef\\xa44\\xd5\\xa4\\xf2}+\\xb7\\xd6tk\\xb4i\\xe5k\\xbd\\xeaZO\\xc2\\xbat8\\xeab\\xe3\\xd7\\xfd\\xdds\\tl\\xefO}}W\\xcc\\x90\\xe0\\x8c\\xb2\\xe1\\xa5\\x06rp\\xc8\\xfe\\xf9\\xd0X\\x06|\\xeb[\\xe1h\\xe3\\x90\\x99\\x81\\xef\\xa1SN\\xa7\\x9f\\xbe\\x94\\x12\\xb4\\x1aT\\x02)\\xe1N\\xc1\\nr9\\x1f][V\\x1b\\xc7I\\xa2\\xa2\\x93\\xc0\\x1a\\x1a\\x8c\\xe6EJ0\\xf7\\xebR1GL\\xfdu\\x00.RUn\\xe8\\xe6\\x93V\\xfdN\\x9d\\x9a\\xab\\x82\\x86m\\xd1\\xc1-6\\x9fR@\\xaf\\x9f\\xb7\\xb6D\\xc6\\xae\\xfb\"\\r;\\x1aHj\\xe2|j\\xd8\\xd2[n\\x93\\xce\\x8d\\x9d\\x0c\\xa3)\\xce\\xa8R\\xad\\x89 \\x01\\x99\\xadFj\\xbf\\xdaN\\x9b\\xb6\\x17g\\xf1gp\\xdb\\xccYo\\xdc\\xb3\\x93\\xa6\\xcd\\x85>\\x84+\\x8aJ\\x93\\x96\\xf0\\xe28V\\xb5Wm\\xf5pP$\\x13\\xcf\\xdf]>\\x8eg\\xa5Pu?\\xbf\\n\\x0cX\\xbd\\x15t\\xa7\\x8a\\xec\\x15\\xe0\\xb7!w\\xd8\\x03\\xaa\\xde~\\xc1k\\xf3\\t\\xfam+\\xe8/\\xfa*\\xe3\\xc0\\x8cg\\xd3\\xee\\xe5\\xd7\\x0e\\xa7o\\x1e\\x9f\\xe7\\xf9\\xaf\\xe8\\xeb\\x9d\\x96\\xc7\\xb0\\x9d\\xaa\\xc1Z\\xc5\\xb0\\x0b\\xc4\\xddY8wI\\x88[K\\xe2\\xdb\\x89\\xd5*\\x1c\\x8e\\xba\\x82Fu\\xe5\\xcb\\x1b\\x8d\\xd3\\xd3.\\xdb^\\xac\\xf0\\xac\\x96\\xa7kp\\xc7q}\\x97\\xc5\\xb0\\xc6\\x94\\x86\\xdd\\xbc\\xb6[([\\x93\\xba\\x95\\x1d\\t\\x8c\\xe3*\\xde\\x17\\xb7)}\\x98\\xcf\\x1e\\xeclsV#\\xb2\\xf8\\xd5\\x8d\\xc3\\xad+\\n\\xbc\\x7fp\\x91\\xd6\\xb0\\xc2\\x94\\x85w\\x83\\x03*\\xf7\\xe3\\xd7\\xc7/]<7\\xa3\\x94\\xe1\\xaf^\\x1d\\x88\\xa0\\xfc\\xa6\\x15\\x89\\'\\xc6\\xd5T\\xce\\xae7\\x8d\\xb3\\xd9\\x97\\xb0+b\\xe1\\x1f\\xa4\\xb3\\xbbO\\xdea\\x7f\\x85k\\xe6Ou\\xd9BQ\\xdd\\x9d\\xe4:<[W\\xe1O|\\xa3\\xb2\\xc3\\x0b\\xed\\x82w\\x95\\x1e)#\\xe1N\\xc7i\\xbeP\\xcc\\xfe\\x95\\x1e\\xba\\xa5]\\xba4\\xba\\xd1\\x07\\xe5Q\\xeb\\x15mh\\xde\\xb1\\xb2rq\\x07\\xf9\\xc2\\x9d\\x8d3y\\x04F\\xfa\\x7f\\xda\\x14mh\\xd3\\x13\\xa8\\xcf.umv\\x90\\xf0\\xee\\xef\\xabgFq\\xf6EI\\x84\\xd4\\x08\\xa3\\x96S\\xaf*\\x8e\\xcc#x$\\x123RS\\x9fy\\x8a8\\x89\\xd7\\xf7 \\xf5\\x91\\xcb/ex\\xa3\\xd9\\xb4\\x8bv\\x9c vLw\\xd1\\xb5\\xa6\\xc5\\x86\\xcau\\xf5Q\\xb3\"[d\\x81B\\xd3Q\\xb6\\x1b[\\x82\\xecv\\x17\\xf9\\xc3h\\xef\\xd1h\\xc9\\xc9\\xb6\\xfc\\xe7_<\\x9b@\\xcdG\\xbfA\\xc4\\x8a\\xd4\\x96\\xf8NZ\\xe9;\\xa7,ok\\xc3\\xb8~\\x0f\\xd6`\\xd8\\x12\\xe5%\\xa6\\xd7\\xf2\\xf7\\t\\xff\\x00Z\\xb1\\xa0?Q9g\\x04\\x9a\\xe98b\\xe5\\xaf\\xd9U\\ty)BD&#!\\x11Gn\\xd9\\xbak\\x81\\xd4\\x1a\\xe9\\xb6D\\x07\\x89\\x99\\xab\\x80 \\xe1\\x94\\xe7\\xfb\\xc5\\x17\\x92\\xf4;\\x0f\\xb6\\x18\\xce\\xc5c#\\x12\\xc0n\\x83n\\x10\\x12\\xeb+\\x1b\\xcd\\\\$}\\x07\\x11\\xf4\\x87~DND\\x1a2\\x93)\\xcbXeq\\xae\\xc5\\xe8\\xc7\\xa4\\\\\\x1b\\xa4\\x0c5Na\\xe4Z\\xe2l\\xa3~\\xeb\\x0eu`\\xb8\\xd0\\xd0\\xa9\\'\\xe9\\xb7?Hi\\x94\\x81^l\\xbaw\\x17\\xab\\x1c\\xa5\\x9b\\x9f\\xe7\\xf9\\xfc\\xff\\x00\\x94\\xf6\\x93\\x95a\\xa3w\\x8f\\xd6>\\xba\\xb4\\x99\\xbc~\\xb1\\xa3Kd&u\\x8fH\\xabH\\xd5!\\x07V\\xd0|R)\\xd0\\rV\\xb6\\xca\\xf3\\xad\\xed\\xcf\\x8bI?\\n\\x90+\\xc2\\xb0\\xe5\\xf9\\xf8}\\x92\\xbcXG\\xe1H\\xd4\\xf6\\x01\\xcd\\x9f\\xc1\\x97\\xe7\\xe1\\x18y\\xf1\\xb7G\\xe1N\\xef\\xba\\xed\\xc7\\xd9\\x1d{)\\xb3\\xeb\\xf3\\xf0<0\\xff\\x00\\xe1\\xd3\\xf8U\\xdd\\x97\\xb8\\xed\\xc7\\xd8\\x076\\'e\\xd7\\xe7`\\x18f\\x7f\\xeaE=\\xd9{\\x8e\\xcc}\\x91\\x97\\xd1\\xf6\\xc9/]\\x9f\\xc3\\xe7\\xb9\\x11\\xf1\\xab\\xe6g\\xee\\xbe^\\x1e\\xc8\\xcetm\\xb1\\xca\\x19\\xe0\\x16\\x83\\xc3x|j\\xf9\\x99\\xfb\\x9f\\x95\\x87\\xb22\\xfa.\\xd8\\xe5i\\x824<\\x1cX\\xf8\\xd3\\xf33\\xf7\\x1f+\\x0f`W\\xd1^\\xc7\\x9c\\xbf5\\x11\\xe0\\xfa\\xc7\\xc6\\xaf\\x9b\\x9f\\xb8\\xbd,=\\x80WD\\xbb \\xa8\\xff\\x007\\xbc<.W\\xf8\\xd3\\xf3s\\xf7\\x1f\\'\\x0fd\\x9c/\\xa2\\xdd\\x97\\xb1\\xbcf\\xe1\\x8b7\\n\\xdbPP\\x0e\\xba\\\\N\\\\\\xc1\\xc8\\xd5\\xf3s\\xb3V\\x8f\\x95\\x8c\\xf0\\xf7\\xa6\\xcd\\xa4\\x12R3\\xe6s\\xa7kB\\x04@\\x8a\\tR59\\x00\\x04\\x92r\\x00s5%)\\xd2\\x7fO\\xb8f\\x00^\\xc3v<3\\x8bb\\x89\\x94\\xae\\xedY\\xdb0~\\xcc~\\x90\\xf8v{\\xce\\x95\\xd2a\\xbek9Y\\x8f\\x0e_\\xda\\x0c{\\x13\\xda,U\\xdcK\\x1c\\xbe~\\xfa\\xf9\\xdf9\\xe7\\x95&8\\x04\\x8d\\x12\\x9e\\xe1\\x95t\\x93^\\x1c\\xeeW.kZVbI\\xf1\\xa83x\\xf7eW\\x03\\x90\\xa7<\\xe9V\\x08\\x83R\\x83 I\\xe1\\xeb\\xab{\\xa4\\x873?\\xb8\\xa0&ax\\x85\\xe6\\x15\\x88\\xdb\\xdf\\xe1\\x97.\\xda_[9\\xbe\\xd3\\xed(\\xa5m\\x9e`\\x8e\\xec\\xa3\\x8e\\x95qZ\\xdd\\x97q\\xd5}\\x10\\xf4\\xcfi\\xb5~O\\x83\\xed)b\\xc3hL!\\xb7rC\\x17\\xa7\\x84pC\\x87\\xea\\xe8O\\x9b\\x13\\xbb\\\\3\\xe9\\xeb\\x98\\xef\\x86}\\xde\\'\\xf9\\xf4\\xff\\x007\\xfd\\xad\\xe5\\x12\\x92A\\x04\\x10`\\xcf:\\xe4\\xe9+\\x02\\xaaE\\n\\xa93z\\x94Y\\xa1\\x15\"H\\x03S\\x95I]\\xe2=,`\\xd6\\x18\\xb5\\xe5\\x8b\\x98~\"\\xe8\\xb6yL\\x97\\x99Se+)0H\\x04\\x83\\x13\"\\xbaN\\x9d\\xd6\\xc6\\xe4\\xf3Nk\\xa5\\xbd\\x99\\\\u\\x8db\\xec\\xfd\\xebP\\xaf\\xec\\xa8\\xd5\\xf2\\xb2;\\x9e\\xe9mt\\xa1\\xb2\\x0e\\t8\\x9b\\xed~\\xd6\\xcd\\xd1\\xee\\x06\\x8f\\x97\\x97\\xb2\\xe3\\xdd-\\xae\\x906E\\xd3\\t\\xda\\x1b\\x14\\xfd\\xfd\\xf4{\\xd3Gf^\\xcbOAcym\\x88Y\\xb5wap\\xd5\\xcd\\xab\\xa3y\\xb7\\x9aV\\xf2V&2>\\x8a\\xca\\xb3^G\\x8a\\x91\\xa55\\x06n\\nQ\\xc9M!$\\x9c\\xabL<\\xd6\\xddm\\xae\\x03\\xb1\\x18w\\x95\\xed\\r\\xe8ik\\x04\\xb3j\\xdfi\\xf7\\xfe\\xe29}\\xa3\\x03\\xbe\\x99-\\xf0~\\xb5\\xc9\\xfd(\\xf4\\xc7\\x8fm\\xb9v\\xc9\\x92p\\xbc\\x06`Y0\\xbe\\xd3\\xa3\\x9b\\xab\\xd5^\\x19\\'\\xbb\\x8du\\xc7\\x19\\x1c\\xb2\\xcf\\xd2+\\x19\"\\x06U\\xa6\\t0*L9eBd\\x8e4\\x82Nd\\n\\x91RH\\x19\\xe9V\\xc8\\xc0\\xe5\\xa9\\xc8\\xd3\\xb5\\xe8p9\\x899\\x9e\\\\\\xa8\\xf2\\xbc\\x1e\\x95r\\x83\\xc0\\xf7\\xd3\\xa8|\\x94\\x84\\xa90s\\x07,\\xfch\\x0b\\xef\\xa2.\\x9b\\xdd\\xc3\\xc38.\\xdc<\\xbb\\x8b\\x10\\x02\\x18\\xc53[\\xacF[\\xae\\xf1Z>\\xd7\\x9c\\x9f\\xb44\\xe5\\x96\\x1b\\xf0\\xed\\x8fR^/\\xf9\\xfe{\\xff\\x00\\xcf\\xbb\\xa4\\x9a[o2\\xd3\\xcc:\\xd3\\xcc:\\x80\\xe3n\\xb4\\xa0\\xb48\\x82$)*\\x19\\x10y\\x8a\\xe1ev;:\\x91\\xc1&\\x90p\\x15\\x14\\x1d\\xa1\\xc4\\xd3\\x83`8\\x8e$\\xb8\\xf9\\xab\\nq3\\xc5Q\\t\\x1e\\xb2*\\x93|)\\xe5\\xce\\x18\\r\\xba\\\\\\xb2u\\xdb\\x96\\xd0\\xf2\\xddp\\x0e\\xdaA\\x93\\xa9#\\x91\\x92k\\xbeWWPNy\\xa9\\xea\\xc3\\xac\\xdcR\\xfein$\\x9d\\xd2\\x04NYe#\\xf7\\xf1\\xacn\\x9e\\xd8\\x12\\xb0\\x9b.\\xca|\\x9c\\x03\\xbf\\xafX\\xa4\\xc8\\x8d5\\xcbCOu\\x1d\\xb1\\xe7\\xb1f\\x9b\\xb6}]BJ\\x10\\x94\\x95\\x00T\\xa5H\\xe0s\\xf8\\x18\\xae\\xb3u\\x9b9t\\xbe\\xc4Y\\xf9\\x06\\xc6`v\\xc4AE\\x9bd\\xe5\\xc4\\x8d\\xe3\\xef\\xaf/\\x9bkm\\xe0\\xa8RT\\x89V\\xd1\\x1cR\\x1ae\\xc7\\x9eq\\r2\\xdaw\\xd6\\xe3\\x8a\\tJ\\x125$\\x9c\\x80\\xad\\x0f>\\x14GI\\xff\\x00\\x94%\\x9d\\x87]\\x86\\xec E\\xe5\\xd8\\x94\\xaf\\x13u2\\xd3|\\xfa\\xa4\\x9f<\\xfd\\xa3\\x97\\x8dt\\x98z\\xd7<\\xb2\\x98\\xf1\\xe6\\xb9\\x9f\\x17\\xc4\\xef\\xb1\\x8cE\\xeb\\xfcV\\xed\\xfb\\xcb\\xd7\\x8e\\xf3\\x8f>\\xbd\\xe5+\\xd7\\xc3\\xbbJ\\xe8\\xe5\\x95\\xb7\\xca\\x191\\xca\\x9d3HO/E\\x0b\\xcb5\\xf4\\xd3\\xb2\\xcc\\xa2(L\\x03.5\\x06\\x11\\x9e\\x82\\xa2v\\xa3\\\\\\xb9\\x11\\xad^\\x17\\x92\\x82f\\x91\\xb3\\xc2\\xb4\\xe5O\\x88}O&39\\x1e&(\\x9c\\xf0\\xb8\\x85\\n\\x10g\\xd1Z\\x02\\xcc\\x80s\\xcf\\x89\\x14iJ\\xb1\\xfa(\\xe9W\\x13\\xd8G\\xd1f\\xea\\x17\\x88l\\xfa\\xd6K\\xb6*T\\x16\\x899\\xad\\x95\\x1f5\\\\J|\\xd5q\\x83\\x98\\xc6Xn:\\xe1\\x9e\\xb8\\xae\\xb6\\xd9\\x9c\\x7f\\x0b\\xda|\\x19\\xacW\\x02\\xbcE\\xdd\\x93\\x87t\\xa8d\\xa6\\xd7\\xc5\\x0bN\\xa8P\\xe4|D\\x8c\\xeb\\xcf\\x94\\xb8\\xde]\\xe5\\xdbl(,\\x9a\\x92\\xb2\\xe9\\xdf\\x17M\\xae\\xce\\xd9aiX\\x0e_?\\xd6,O\\xf1m\\xe7\\xedQ\\x1e\\xaa\\xdfNn\\xec^\"\\xa2\\xb4\\xc6\\x1d\\xb7\\xb6C(i\\x05)\\xcc\\x10H3\\xce\\xba\\xdc7\\xc8\\xeeHV>T\\x95\\x85[\\x94\\xa9I\\x03y+\\x06\\x0f8\"\\x08\\xee5v\\x1e\\xe8\\x8a\\xde5z\\x84\\xc4\\xb0\\xa1\\xa4)\\xa1\\x1e\\xca{ \\xee\\xa8o)W\\xf7Q\\xb8\\x84\\xb9p\\xb4\\xa0\\x86\\xd3\\xba\\t$&c\\x99\\xa7\\xc4[\\xddu\\xba\\x1aK-\\xa1\\x94\\x8e\\xcbiJ\\x00\\xf0\\x00|+\\xc9\\x1a,R\\x19\\x15\\'\\x8d\\xe9\\x0f\\xa4m\\x9d\\xd8+\\x7f\\xf3\\xc5\\xcf]\\x88)2\\xd6\\x1fnB\\x9e_\"~\\xa2{\\xcf\\xa2kX\\xe3r\\x16\\xccf\\xeb\\x93:L\\xe9Oh6\\xf5\\xf2\\xdd\\xeb\\xa2\\xcf\\tJ\\xb7\\x9a\\xc3\\xad\\xc9\\xea\\xc7\"\\xb3\\xaa\\xd5\\xder\\xe4\\x05w\\xc7\\t\\x8b\\x8e]Kx\\x9cG\\x83:\\xc4\\x8f\\x01N\\xdc\\xf4Br\\xee\\xa50\\xd5\\x05!\\x88\\xcb\\xdbBf\\xbciL\\xe74#\\xa3\\x94Gx\\xa51YLw\\xd0X\\x0eC\\xc6\\xa4\\xc1\\x9e\\xef}H\\xa4\\x91\\x15ED\\'1\\xe1\\xf0\\xad\\nT\\x935\\x1fA\\x87\\x9a=5C9=9\\x8c\\xfb\\xfd\\xd5\\x9b\\xe5=\\xc7B\\xf8\\xe6%\\x83t\\x91\\x827\\x86^9n\\xd6!x\\xd5\\xad\\xdbi\\x82\\x87\\x9b*\\x8d\\xd5$\\xe4u\\xc8\\xea8\\x11F\\xb7\\x8d\\xdb\\xa7J\\xfem;eY(\\x81^gsf\\xa8\\x80\\xba\\xc30\\xfcII\\x18\\x8d\\x8d\\xa5\\xde\\xe8\\x84\\xf5\\xec\\xa5\\xcd\\xd1\\xdd#*\\xb5\\xb0\\x8c\\xae\\x8fvJ\\xe1$\\xbb\\xb3\\xf8|\\xf3C[\\x9e\\xe8\\xa2\\xf1\\xe0W\\x9e\\xc6\\xfa8\\xd96\\x90\\xa55\\x84%\\xb2>\\xab\\xce\\x8fr\\xaa\\xbdL\\xa7\\x8a4\\xab6\\x93g\\xf0\\xcb%+\\xc9\\xad\\xd4\\x8e\\x1f\\xa5Y\\xf7\\x9a\\xd6=\\\\\\xbd\\xcbE\\xb3\\xac6\\xad\\xab\\xc2[)\\x94yc9\\x12~\\xb8\\xad\\xf7[\\x8d1\\xd4\\xce\\xfe\\x91^5\\xcd\\x1a5\\xa9<7MX\\xee%\\xb3\\xbd\\x1d\\xe2X\\x86\\x0bt\\xab[\\xd4$\\x04\\xba\\x94\\xa4\\x94\\xc9\\x00\\xc4\\x83\\x07=kX\\xc9i\\x9e-\\xfa8r\\xee\\xe5\\xfb\\xc7\\xdc\\xb9\\xbby\\xc7\\xee\\x1e;\\xce:\\xea\\x8a\\x96\\xb2Fd\\x93\\x99\\xafC\\xc7\\xbb\\x95\\xdd\\x05Z\\xa4w|)\\x04$\\xefPJ<\\xe3\\xdcj\\x88\\x87\\x8d@\\x80\\x9c\\xeaE\\x03\\xb4iLI\\xd7\\xc6\\x844\\r\\xe5e\\xc6\\xb5<\\x1a\\xff\\xd9'"
     },
     "metadata": {},
     "execution_count": 31
    }
   ],
   "source": [
    "# The raw content (its a binary file, meaning we will need to use binary read/write methods for saving it)\n",
    "image_link.content"
   ]
  },
  {
   "cell_type": "markdown",
   "metadata": {},
   "source": [
    "**Let's write this to a file:=, not the 'wb' call to denote a binary writing of the file.**"
   ]
  },
  {
   "cell_type": "code",
   "execution_count": 32,
   "metadata": {
    "collapsed": true
   },
   "outputs": [],
   "source": [
    "f = open('my_new_file_name.jpg','wb') # wb = write binary"
   ]
  },
  {
   "cell_type": "code",
   "execution_count": 33,
   "metadata": {},
   "outputs": [
    {
     "output_type": "execute_result",
     "data": {
      "text/plain": "16806"
     },
     "metadata": {},
     "execution_count": 33
    }
   ],
   "source": [
    "f.write(image_link.content)"
   ]
  },
  {
   "cell_type": "code",
   "execution_count": 34,
   "metadata": {
    "collapsed": true
   },
   "outputs": [],
   "source": [
    "f.close()"
   ]
  },
  {
   "cell_type": "markdown",
   "metadata": {},
   "source": [
    "Now we can display this file right here in the notebook as markdown using:\n",
    "\n",
    "    <img src=\"'my_new_file_name.jpg'>\n",
    "    \n",
    "Just write the above line in a new markdown cell and it will display the image we just downloaded!"
   ]
  },
  {
   "cell_type": "markdown",
   "metadata": {},
   "source": [
    "<img src='my_new_file_name.jpg'>"
   ]
  },
  {
   "cell_type": "markdown",
   "metadata": {},
   "source": [
    "### Example Project - Working with Multiple Pages and Items\n",
    "\n",
    "Let's show a more realistic example of scraping a full site. The website: http://books.toscrape.com/index.html is specifically designed for people to scrape it. Let's try to get the title of every book that has a 2 star rating and at the end just have a Python list with all their titles.\n",
    "\n",
    "We will do the following:\n",
    "\n",
    "1. Figure out the URL structure to go through every page\n",
    "2. Scrap every page in the catalogue\n",
    "3. Figure out what tag/class represents the Star rating\n",
    "4. Filter by that star rating using an if statement\n",
    "5. Store the results to a list"
   ]
  },
  {
   "cell_type": "markdown",
   "metadata": {
    "collapsed": true
   },
   "source": [
    "We can see that the URL structure is the following:\n",
    "\n",
    "    http://books.toscrape.com/catalogue/page-1.html"
   ]
  },
  {
   "cell_type": "code",
   "execution_count": 37,
   "metadata": {
    "collapsed": true
   },
   "outputs": [],
   "source": [
    "base_url = 'http://books.toscrape.com/catalogue/page-{}.html'"
   ]
  },
  {
   "cell_type": "markdown",
   "metadata": {},
   "source": [
    "We can then fill in the page number with .format()"
   ]
  },
  {
   "cell_type": "code",
   "execution_count": 38,
   "metadata": {
    "collapsed": true
   },
   "outputs": [],
   "source": [
    "res = requests.get(base_url.format('1'))"
   ]
  },
  {
   "cell_type": "markdown",
   "metadata": {},
   "source": [
    "Now let's grab the products (books) from the get request result:"
   ]
  },
  {
   "cell_type": "code",
   "execution_count": 39,
   "metadata": {
    "collapsed": true
   },
   "outputs": [],
   "source": [
    "soup = bs4.BeautifulSoup(res.text,\"lxml\")"
   ]
  },
  {
   "cell_type": "code",
   "execution_count": 38,
   "metadata": {},
   "outputs": [
    {
     "data": {
      "text/plain": [
       "[<article class=\"product_pod\">\n",
       " <div class=\"image_container\">\n",
       " <a href=\"a-light-in-the-attic_1000/index.html\"><img alt=\"A Light in the Attic\" class=\"thumbnail\" src=\"../media/cache/2c/da/2cdad67c44b002e7ead0cc35693c0e8b.jpg\"/></a>\n",
       " </div>\n",
       " <p class=\"star-rating Three\">\n",
       " <i class=\"icon-star\"></i>\n",
       " <i class=\"icon-star\"></i>\n",
       " <i class=\"icon-star\"></i>\n",
       " <i class=\"icon-star\"></i>\n",
       " <i class=\"icon-star\"></i>\n",
       " </p>\n",
       " <h3><a href=\"a-light-in-the-attic_1000/index.html\" title=\"A Light in the Attic\">A Light in the ...</a></h3>\n",
       " <div class=\"product_price\">\n",
       " <p class=\"price_color\">Â£51.77</p>\n",
       " <p class=\"instock availability\">\n",
       " <i class=\"icon-ok\"></i>\n",
       "     \n",
       "         In stock\n",
       "     \n",
       " </p>\n",
       " <form>\n",
       " <button class=\"btn btn-primary btn-block\" data-loading-text=\"Adding...\" type=\"submit\">Add to basket</button>\n",
       " </form>\n",
       " </div>\n",
       " </article>, <article class=\"product_pod\">\n",
       " <div class=\"image_container\">\n",
       " <a href=\"tipping-the-velvet_999/index.html\"><img alt=\"Tipping the Velvet\" class=\"thumbnail\" src=\"../media/cache/26/0c/260c6ae16bce31c8f8c95daddd9f4a1c.jpg\"/></a>\n",
       " </div>\n",
       " <p class=\"star-rating One\">\n",
       " <i class=\"icon-star\"></i>\n",
       " <i class=\"icon-star\"></i>\n",
       " <i class=\"icon-star\"></i>\n",
       " <i class=\"icon-star\"></i>\n",
       " <i class=\"icon-star\"></i>\n",
       " </p>\n",
       " <h3><a href=\"tipping-the-velvet_999/index.html\" title=\"Tipping the Velvet\">Tipping the Velvet</a></h3>\n",
       " <div class=\"product_price\">\n",
       " <p class=\"price_color\">Â£53.74</p>\n",
       " <p class=\"instock availability\">\n",
       " <i class=\"icon-ok\"></i>\n",
       "     \n",
       "         In stock\n",
       "     \n",
       " </p>\n",
       " <form>\n",
       " <button class=\"btn btn-primary btn-block\" data-loading-text=\"Adding...\" type=\"submit\">Add to basket</button>\n",
       " </form>\n",
       " </div>\n",
       " </article>, <article class=\"product_pod\">\n",
       " <div class=\"image_container\">\n",
       " <a href=\"soumission_998/index.html\"><img alt=\"Soumission\" class=\"thumbnail\" src=\"../media/cache/3e/ef/3eef99c9d9adef34639f510662022830.jpg\"/></a>\n",
       " </div>\n",
       " <p class=\"star-rating One\">\n",
       " <i class=\"icon-star\"></i>\n",
       " <i class=\"icon-star\"></i>\n",
       " <i class=\"icon-star\"></i>\n",
       " <i class=\"icon-star\"></i>\n",
       " <i class=\"icon-star\"></i>\n",
       " </p>\n",
       " <h3><a href=\"soumission_998/index.html\" title=\"Soumission\">Soumission</a></h3>\n",
       " <div class=\"product_price\">\n",
       " <p class=\"price_color\">Â£50.10</p>\n",
       " <p class=\"instock availability\">\n",
       " <i class=\"icon-ok\"></i>\n",
       "     \n",
       "         In stock\n",
       "     \n",
       " </p>\n",
       " <form>\n",
       " <button class=\"btn btn-primary btn-block\" data-loading-text=\"Adding...\" type=\"submit\">Add to basket</button>\n",
       " </form>\n",
       " </div>\n",
       " </article>, <article class=\"product_pod\">\n",
       " <div class=\"image_container\">\n",
       " <a href=\"sharp-objects_997/index.html\"><img alt=\"Sharp Objects\" class=\"thumbnail\" src=\"../media/cache/32/51/3251cf3a3412f53f339e42cac2134093.jpg\"/></a>\n",
       " </div>\n",
       " <p class=\"star-rating Four\">\n",
       " <i class=\"icon-star\"></i>\n",
       " <i class=\"icon-star\"></i>\n",
       " <i class=\"icon-star\"></i>\n",
       " <i class=\"icon-star\"></i>\n",
       " <i class=\"icon-star\"></i>\n",
       " </p>\n",
       " <h3><a href=\"sharp-objects_997/index.html\" title=\"Sharp Objects\">Sharp Objects</a></h3>\n",
       " <div class=\"product_price\">\n",
       " <p class=\"price_color\">Â£47.82</p>\n",
       " <p class=\"instock availability\">\n",
       " <i class=\"icon-ok\"></i>\n",
       "     \n",
       "         In stock\n",
       "     \n",
       " </p>\n",
       " <form>\n",
       " <button class=\"btn btn-primary btn-block\" data-loading-text=\"Adding...\" type=\"submit\">Add to basket</button>\n",
       " </form>\n",
       " </div>\n",
       " </article>, <article class=\"product_pod\">\n",
       " <div class=\"image_container\">\n",
       " <a href=\"sapiens-a-brief-history-of-humankind_996/index.html\"><img alt=\"Sapiens: A Brief History of Humankind\" class=\"thumbnail\" src=\"../media/cache/be/a5/bea5697f2534a2f86a3ef27b5a8c12a6.jpg\"/></a>\n",
       " </div>\n",
       " <p class=\"star-rating Five\">\n",
       " <i class=\"icon-star\"></i>\n",
       " <i class=\"icon-star\"></i>\n",
       " <i class=\"icon-star\"></i>\n",
       " <i class=\"icon-star\"></i>\n",
       " <i class=\"icon-star\"></i>\n",
       " </p>\n",
       " <h3><a href=\"sapiens-a-brief-history-of-humankind_996/index.html\" title=\"Sapiens: A Brief History of Humankind\">Sapiens: A Brief History ...</a></h3>\n",
       " <div class=\"product_price\">\n",
       " <p class=\"price_color\">Â£54.23</p>\n",
       " <p class=\"instock availability\">\n",
       " <i class=\"icon-ok\"></i>\n",
       "     \n",
       "         In stock\n",
       "     \n",
       " </p>\n",
       " <form>\n",
       " <button class=\"btn btn-primary btn-block\" data-loading-text=\"Adding...\" type=\"submit\">Add to basket</button>\n",
       " </form>\n",
       " </div>\n",
       " </article>, <article class=\"product_pod\">\n",
       " <div class=\"image_container\">\n",
       " <a href=\"the-requiem-red_995/index.html\"><img alt=\"The Requiem Red\" class=\"thumbnail\" src=\"../media/cache/68/33/68339b4c9bc034267e1da611ab3b34f8.jpg\"/></a>\n",
       " </div>\n",
       " <p class=\"star-rating One\">\n",
       " <i class=\"icon-star\"></i>\n",
       " <i class=\"icon-star\"></i>\n",
       " <i class=\"icon-star\"></i>\n",
       " <i class=\"icon-star\"></i>\n",
       " <i class=\"icon-star\"></i>\n",
       " </p>\n",
       " <h3><a href=\"the-requiem-red_995/index.html\" title=\"The Requiem Red\">The Requiem Red</a></h3>\n",
       " <div class=\"product_price\">\n",
       " <p class=\"price_color\">Â£22.65</p>\n",
       " <p class=\"instock availability\">\n",
       " <i class=\"icon-ok\"></i>\n",
       "     \n",
       "         In stock\n",
       "     \n",
       " </p>\n",
       " <form>\n",
       " <button class=\"btn btn-primary btn-block\" data-loading-text=\"Adding...\" type=\"submit\">Add to basket</button>\n",
       " </form>\n",
       " </div>\n",
       " </article>, <article class=\"product_pod\">\n",
       " <div class=\"image_container\">\n",
       " <a href=\"the-dirty-little-secrets-of-getting-your-dream-job_994/index.html\"><img alt=\"The Dirty Little Secrets of Getting Your Dream Job\" class=\"thumbnail\" src=\"../media/cache/92/27/92274a95b7c251fea59a2b8a78275ab4.jpg\"/></a>\n",
       " </div>\n",
       " <p class=\"star-rating Four\">\n",
       " <i class=\"icon-star\"></i>\n",
       " <i class=\"icon-star\"></i>\n",
       " <i class=\"icon-star\"></i>\n",
       " <i class=\"icon-star\"></i>\n",
       " <i class=\"icon-star\"></i>\n",
       " </p>\n",
       " <h3><a href=\"the-dirty-little-secrets-of-getting-your-dream-job_994/index.html\" title=\"The Dirty Little Secrets of Getting Your Dream Job\">The Dirty Little Secrets ...</a></h3>\n",
       " <div class=\"product_price\">\n",
       " <p class=\"price_color\">Â£33.34</p>\n",
       " <p class=\"instock availability\">\n",
       " <i class=\"icon-ok\"></i>\n",
       "     \n",
       "         In stock\n",
       "     \n",
       " </p>\n",
       " <form>\n",
       " <button class=\"btn btn-primary btn-block\" data-loading-text=\"Adding...\" type=\"submit\">Add to basket</button>\n",
       " </form>\n",
       " </div>\n",
       " </article>, <article class=\"product_pod\">\n",
       " <div class=\"image_container\">\n",
       " <a href=\"the-coming-woman-a-novel-based-on-the-life-of-the-infamous-feminist-victoria-woodhull_993/index.html\"><img alt=\"The Coming Woman: A Novel Based on the Life of the Infamous Feminist, Victoria Woodhull\" class=\"thumbnail\" src=\"../media/cache/3d/54/3d54940e57e662c4dd1f3ff00c78cc64.jpg\"/></a>\n",
       " </div>\n",
       " <p class=\"star-rating Three\">\n",
       " <i class=\"icon-star\"></i>\n",
       " <i class=\"icon-star\"></i>\n",
       " <i class=\"icon-star\"></i>\n",
       " <i class=\"icon-star\"></i>\n",
       " <i class=\"icon-star\"></i>\n",
       " </p>\n",
       " <h3><a href=\"the-coming-woman-a-novel-based-on-the-life-of-the-infamous-feminist-victoria-woodhull_993/index.html\" title=\"The Coming Woman: A Novel Based on the Life of the Infamous Feminist, Victoria Woodhull\">The Coming Woman: A ...</a></h3>\n",
       " <div class=\"product_price\">\n",
       " <p class=\"price_color\">Â£17.93</p>\n",
       " <p class=\"instock availability\">\n",
       " <i class=\"icon-ok\"></i>\n",
       "     \n",
       "         In stock\n",
       "     \n",
       " </p>\n",
       " <form>\n",
       " <button class=\"btn btn-primary btn-block\" data-loading-text=\"Adding...\" type=\"submit\">Add to basket</button>\n",
       " </form>\n",
       " </div>\n",
       " </article>, <article class=\"product_pod\">\n",
       " <div class=\"image_container\">\n",
       " <a href=\"the-boys-in-the-boat-nine-americans-and-their-epic-quest-for-gold-at-the-1936-berlin-olympics_992/index.html\"><img alt=\"The Boys in the Boat: Nine Americans and Their Epic Quest for Gold at the 1936 Berlin Olympics\" class=\"thumbnail\" src=\"../media/cache/66/88/66883b91f6804b2323c8369331cb7dd1.jpg\"/></a>\n",
       " </div>\n",
       " <p class=\"star-rating Four\">\n",
       " <i class=\"icon-star\"></i>\n",
       " <i class=\"icon-star\"></i>\n",
       " <i class=\"icon-star\"></i>\n",
       " <i class=\"icon-star\"></i>\n",
       " <i class=\"icon-star\"></i>\n",
       " </p>\n",
       " <h3><a href=\"the-boys-in-the-boat-nine-americans-and-their-epic-quest-for-gold-at-the-1936-berlin-olympics_992/index.html\" title=\"The Boys in the Boat: Nine Americans and Their Epic Quest for Gold at the 1936 Berlin Olympics\">The Boys in the ...</a></h3>\n",
       " <div class=\"product_price\">\n",
       " <p class=\"price_color\">Â£22.60</p>\n",
       " <p class=\"instock availability\">\n",
       " <i class=\"icon-ok\"></i>\n",
       "     \n",
       "         In stock\n",
       "     \n",
       " </p>\n",
       " <form>\n",
       " <button class=\"btn btn-primary btn-block\" data-loading-text=\"Adding...\" type=\"submit\">Add to basket</button>\n",
       " </form>\n",
       " </div>\n",
       " </article>, <article class=\"product_pod\">\n",
       " <div class=\"image_container\">\n",
       " <a href=\"the-black-maria_991/index.html\"><img alt=\"The Black Maria\" class=\"thumbnail\" src=\"../media/cache/58/46/5846057e28022268153beff6d352b06c.jpg\"/></a>\n",
       " </div>\n",
       " <p class=\"star-rating One\">\n",
       " <i class=\"icon-star\"></i>\n",
       " <i class=\"icon-star\"></i>\n",
       " <i class=\"icon-star\"></i>\n",
       " <i class=\"icon-star\"></i>\n",
       " <i class=\"icon-star\"></i>\n",
       " </p>\n",
       " <h3><a href=\"the-black-maria_991/index.html\" title=\"The Black Maria\">The Black Maria</a></h3>\n",
       " <div class=\"product_price\">\n",
       " <p class=\"price_color\">Â£52.15</p>\n",
       " <p class=\"instock availability\">\n",
       " <i class=\"icon-ok\"></i>\n",
       "     \n",
       "         In stock\n",
       "     \n",
       " </p>\n",
       " <form>\n",
       " <button class=\"btn btn-primary btn-block\" data-loading-text=\"Adding...\" type=\"submit\">Add to basket</button>\n",
       " </form>\n",
       " </div>\n",
       " </article>, <article class=\"product_pod\">\n",
       " <div class=\"image_container\">\n",
       " <a href=\"starving-hearts-triangular-trade-trilogy-1_990/index.html\"><img alt=\"Starving Hearts (Triangular Trade Trilogy, #1)\" class=\"thumbnail\" src=\"../media/cache/be/f4/bef44da28c98f905a3ebec0b87be8530.jpg\"/></a>\n",
       " </div>\n",
       " <p class=\"star-rating Two\">\n",
       " <i class=\"icon-star\"></i>\n",
       " <i class=\"icon-star\"></i>\n",
       " <i class=\"icon-star\"></i>\n",
       " <i class=\"icon-star\"></i>\n",
       " <i class=\"icon-star\"></i>\n",
       " </p>\n",
       " <h3><a href=\"starving-hearts-triangular-trade-trilogy-1_990/index.html\" title=\"Starving Hearts (Triangular Trade Trilogy, #1)\">Starving Hearts (Triangular Trade ...</a></h3>\n",
       " <div class=\"product_price\">\n",
       " <p class=\"price_color\">Â£13.99</p>\n",
       " <p class=\"instock availability\">\n",
       " <i class=\"icon-ok\"></i>\n",
       "     \n",
       "         In stock\n",
       "     \n",
       " </p>\n",
       " <form>\n",
       " <button class=\"btn btn-primary btn-block\" data-loading-text=\"Adding...\" type=\"submit\">Add to basket</button>\n",
       " </form>\n",
       " </div>\n",
       " </article>, <article class=\"product_pod\">\n",
       " <div class=\"image_container\">\n",
       " <a href=\"shakespeares-sonnets_989/index.html\"><img alt=\"Shakespeare's Sonnets\" class=\"thumbnail\" src=\"../media/cache/10/48/1048f63d3b5061cd2f424d20b3f9b666.jpg\"/></a>\n",
       " </div>\n",
       " <p class=\"star-rating Four\">\n",
       " <i class=\"icon-star\"></i>\n",
       " <i class=\"icon-star\"></i>\n",
       " <i class=\"icon-star\"></i>\n",
       " <i class=\"icon-star\"></i>\n",
       " <i class=\"icon-star\"></i>\n",
       " </p>\n",
       " <h3><a href=\"shakespeares-sonnets_989/index.html\" title=\"Shakespeare's Sonnets\">Shakespeare's Sonnets</a></h3>\n",
       " <div class=\"product_price\">\n",
       " <p class=\"price_color\">Â£20.66</p>\n",
       " <p class=\"instock availability\">\n",
       " <i class=\"icon-ok\"></i>\n",
       "     \n",
       "         In stock\n",
       "     \n",
       " </p>\n",
       " <form>\n",
       " <button class=\"btn btn-primary btn-block\" data-loading-text=\"Adding...\" type=\"submit\">Add to basket</button>\n",
       " </form>\n",
       " </div>\n",
       " </article>, <article class=\"product_pod\">\n",
       " <div class=\"image_container\">\n",
       " <a href=\"set-me-free_988/index.html\"><img alt=\"Set Me Free\" class=\"thumbnail\" src=\"../media/cache/5b/88/5b88c52633f53cacf162c15f4f823153.jpg\"/></a>\n",
       " </div>\n",
       " <p class=\"star-rating Five\">\n",
       " <i class=\"icon-star\"></i>\n",
       " <i class=\"icon-star\"></i>\n",
       " <i class=\"icon-star\"></i>\n",
       " <i class=\"icon-star\"></i>\n",
       " <i class=\"icon-star\"></i>\n",
       " </p>\n",
       " <h3><a href=\"set-me-free_988/index.html\" title=\"Set Me Free\">Set Me Free</a></h3>\n",
       " <div class=\"product_price\">\n",
       " <p class=\"price_color\">Â£17.46</p>\n",
       " <p class=\"instock availability\">\n",
       " <i class=\"icon-ok\"></i>\n",
       "     \n",
       "         In stock\n",
       "     \n",
       " </p>\n",
       " <form>\n",
       " <button class=\"btn btn-primary btn-block\" data-loading-text=\"Adding...\" type=\"submit\">Add to basket</button>\n",
       " </form>\n",
       " </div>\n",
       " </article>, <article class=\"product_pod\">\n",
       " <div class=\"image_container\">\n",
       " <a href=\"scott-pilgrims-precious-little-life-scott-pilgrim-1_987/index.html\"><img alt=\"Scott Pilgrim's Precious Little Life (Scott Pilgrim #1)\" class=\"thumbnail\" src=\"../media/cache/94/b1/94b1b8b244bce9677c2f29ccc890d4d2.jpg\"/></a>\n",
       " </div>\n",
       " <p class=\"star-rating Five\">\n",
       " <i class=\"icon-star\"></i>\n",
       " <i class=\"icon-star\"></i>\n",
       " <i class=\"icon-star\"></i>\n",
       " <i class=\"icon-star\"></i>\n",
       " <i class=\"icon-star\"></i>\n",
       " </p>\n",
       " <h3><a href=\"scott-pilgrims-precious-little-life-scott-pilgrim-1_987/index.html\" title=\"Scott Pilgrim's Precious Little Life (Scott Pilgrim #1)\">Scott Pilgrim's Precious Little ...</a></h3>\n",
       " <div class=\"product_price\">\n",
       " <p class=\"price_color\">Â£52.29</p>\n",
       " <p class=\"instock availability\">\n",
       " <i class=\"icon-ok\"></i>\n",
       "     \n",
       "         In stock\n",
       "     \n",
       " </p>\n",
       " <form>\n",
       " <button class=\"btn btn-primary btn-block\" data-loading-text=\"Adding...\" type=\"submit\">Add to basket</button>\n",
       " </form>\n",
       " </div>\n",
       " </article>, <article class=\"product_pod\">\n",
       " <div class=\"image_container\">\n",
       " <a href=\"rip-it-up-and-start-again_986/index.html\"><img alt=\"Rip it Up and Start Again\" class=\"thumbnail\" src=\"../media/cache/81/c4/81c4a973364e17d01f217e1188253d5e.jpg\"/></a>\n",
       " </div>\n",
       " <p class=\"star-rating Five\">\n",
       " <i class=\"icon-star\"></i>\n",
       " <i class=\"icon-star\"></i>\n",
       " <i class=\"icon-star\"></i>\n",
       " <i class=\"icon-star\"></i>\n",
       " <i class=\"icon-star\"></i>\n",
       " </p>\n",
       " <h3><a href=\"rip-it-up-and-start-again_986/index.html\" title=\"Rip it Up and Start Again\">Rip it Up and ...</a></h3>\n",
       " <div class=\"product_price\">\n",
       " <p class=\"price_color\">Â£35.02</p>\n",
       " <p class=\"instock availability\">\n",
       " <i class=\"icon-ok\"></i>\n",
       "     \n",
       "         In stock\n",
       "     \n",
       " </p>\n",
       " <form>\n",
       " <button class=\"btn btn-primary btn-block\" data-loading-text=\"Adding...\" type=\"submit\">Add to basket</button>\n",
       " </form>\n",
       " </div>\n",
       " </article>, <article class=\"product_pod\">\n",
       " <div class=\"image_container\">\n",
       " <a href=\"our-band-could-be-your-life-scenes-from-the-american-indie-underground-1981-1991_985/index.html\"><img alt=\"Our Band Could Be Your Life: Scenes from the American Indie Underground, 1981-1991\" class=\"thumbnail\" src=\"../media/cache/54/60/54607fe8945897cdcced0044103b10b6.jpg\"/></a>\n",
       " </div>\n",
       " <p class=\"star-rating Three\">\n",
       " <i class=\"icon-star\"></i>\n",
       " <i class=\"icon-star\"></i>\n",
       " <i class=\"icon-star\"></i>\n",
       " <i class=\"icon-star\"></i>\n",
       " <i class=\"icon-star\"></i>\n",
       " </p>\n",
       " <h3><a href=\"our-band-could-be-your-life-scenes-from-the-american-indie-underground-1981-1991_985/index.html\" title=\"Our Band Could Be Your Life: Scenes from the American Indie Underground, 1981-1991\">Our Band Could Be ...</a></h3>\n",
       " <div class=\"product_price\">\n",
       " <p class=\"price_color\">Â£57.25</p>\n",
       " <p class=\"instock availability\">\n",
       " <i class=\"icon-ok\"></i>\n",
       "     \n",
       "         In stock\n",
       "     \n",
       " </p>\n",
       " <form>\n",
       " <button class=\"btn btn-primary btn-block\" data-loading-text=\"Adding...\" type=\"submit\">Add to basket</button>\n",
       " </form>\n",
       " </div>\n",
       " </article>, <article class=\"product_pod\">\n",
       " <div class=\"image_container\">\n",
       " <a href=\"olio_984/index.html\"><img alt=\"Olio\" class=\"thumbnail\" src=\"../media/cache/55/33/553310a7162dfbc2c6d19a84da0df9e1.jpg\"/></a>\n",
       " </div>\n",
       " <p class=\"star-rating One\">\n",
       " <i class=\"icon-star\"></i>\n",
       " <i class=\"icon-star\"></i>\n",
       " <i class=\"icon-star\"></i>\n",
       " <i class=\"icon-star\"></i>\n",
       " <i class=\"icon-star\"></i>\n",
       " </p>\n",
       " <h3><a href=\"olio_984/index.html\" title=\"Olio\">Olio</a></h3>\n",
       " <div class=\"product_price\">\n",
       " <p class=\"price_color\">Â£23.88</p>\n",
       " <p class=\"instock availability\">\n",
       " <i class=\"icon-ok\"></i>\n",
       "     \n",
       "         In stock\n",
       "     \n",
       " </p>\n",
       " <form>\n",
       " <button class=\"btn btn-primary btn-block\" data-loading-text=\"Adding...\" type=\"submit\">Add to basket</button>\n",
       " </form>\n",
       " </div>\n",
       " </article>, <article class=\"product_pod\">\n",
       " <div class=\"image_container\">\n",
       " <a href=\"mesaerion-the-best-science-fiction-stories-1800-1849_983/index.html\"><img alt=\"Mesaerion: The Best Science Fiction Stories 1800-1849\" class=\"thumbnail\" src=\"../media/cache/09/a3/09a3aef48557576e1a85ba7efea8ecb7.jpg\"/></a>\n",
       " </div>\n",
       " <p class=\"star-rating One\">\n",
       " <i class=\"icon-star\"></i>\n",
       " <i class=\"icon-star\"></i>\n",
       " <i class=\"icon-star\"></i>\n",
       " <i class=\"icon-star\"></i>\n",
       " <i class=\"icon-star\"></i>\n",
       " </p>\n",
       " <h3><a href=\"mesaerion-the-best-science-fiction-stories-1800-1849_983/index.html\" title=\"Mesaerion: The Best Science Fiction Stories 1800-1849\">Mesaerion: The Best Science ...</a></h3>\n",
       " <div class=\"product_price\">\n",
       " <p class=\"price_color\">Â£37.59</p>\n",
       " <p class=\"instock availability\">\n",
       " <i class=\"icon-ok\"></i>\n",
       "     \n",
       "         In stock\n",
       "     \n",
       " </p>\n",
       " <form>\n",
       " <button class=\"btn btn-primary btn-block\" data-loading-text=\"Adding...\" type=\"submit\">Add to basket</button>\n",
       " </form>\n",
       " </div>\n",
       " </article>, <article class=\"product_pod\">\n",
       " <div class=\"image_container\">\n",
       " <a href=\"libertarianism-for-beginners_982/index.html\"><img alt=\"Libertarianism for Beginners\" class=\"thumbnail\" src=\"../media/cache/0b/bc/0bbcd0a6f4bcd81ccb1049a52736406e.jpg\"/></a>\n",
       " </div>\n",
       " <p class=\"star-rating Two\">\n",
       " <i class=\"icon-star\"></i>\n",
       " <i class=\"icon-star\"></i>\n",
       " <i class=\"icon-star\"></i>\n",
       " <i class=\"icon-star\"></i>\n",
       " <i class=\"icon-star\"></i>\n",
       " </p>\n",
       " <h3><a href=\"libertarianism-for-beginners_982/index.html\" title=\"Libertarianism for Beginners\">Libertarianism for Beginners</a></h3>\n",
       " <div class=\"product_price\">\n",
       " <p class=\"price_color\">Â£51.33</p>\n",
       " <p class=\"instock availability\">\n",
       " <i class=\"icon-ok\"></i>\n",
       "     \n",
       "         In stock\n",
       "     \n",
       " </p>\n",
       " <form>\n",
       " <button class=\"btn btn-primary btn-block\" data-loading-text=\"Adding...\" type=\"submit\">Add to basket</button>\n",
       " </form>\n",
       " </div>\n",
       " </article>, <article class=\"product_pod\">\n",
       " <div class=\"image_container\">\n",
       " <a href=\"its-only-the-himalayas_981/index.html\"><img alt=\"It's Only the Himalayas\" class=\"thumbnail\" src=\"../media/cache/27/a5/27a53d0bb95bdd88288eaf66c9230d7e.jpg\"/></a>\n",
       " </div>\n",
       " <p class=\"star-rating Two\">\n",
       " <i class=\"icon-star\"></i>\n",
       " <i class=\"icon-star\"></i>\n",
       " <i class=\"icon-star\"></i>\n",
       " <i class=\"icon-star\"></i>\n",
       " <i class=\"icon-star\"></i>\n",
       " </p>\n",
       " <h3><a href=\"its-only-the-himalayas_981/index.html\" title=\"It's Only the Himalayas\">It's Only the Himalayas</a></h3>\n",
       " <div class=\"product_price\">\n",
       " <p class=\"price_color\">Â£45.17</p>\n",
       " <p class=\"instock availability\">\n",
       " <i class=\"icon-ok\"></i>\n",
       "     \n",
       "         In stock\n",
       "     \n",
       " </p>\n",
       " <form>\n",
       " <button class=\"btn btn-primary btn-block\" data-loading-text=\"Adding...\" type=\"submit\">Add to basket</button>\n",
       " </form>\n",
       " </div>\n",
       " </article>]"
      ]
     },
     "execution_count": 38,
     "metadata": {},
     "output_type": "execute_result"
    }
   ],
   "source": [
    "soup.select(\".product_pod\")"
   ]
  },
  {
   "cell_type": "markdown",
   "metadata": {},
   "source": [
    "Now we can see that each book has the product_pod class. We can select any tag with this class, and then further reduce it by its rating."
   ]
  },
  {
   "cell_type": "code",
   "execution_count": 40,
   "metadata": {
    "collapsed": true
   },
   "outputs": [],
   "source": [
    "products = soup.select(\".product_pod\")"
   ]
  },
  {
   "cell_type": "code",
   "execution_count": 41,
   "metadata": {
    "collapsed": true
   },
   "outputs": [],
   "source": [
    "example = products[0]"
   ]
  },
  {
   "cell_type": "code",
   "execution_count": 52,
   "metadata": {},
   "outputs": [
    {
     "output_type": "execute_result",
     "data": {
      "text/plain": "<article class=\"product_pod\">\n<div class=\"image_container\">\n<a href=\"a-light-in-the-attic_1000/index.html\"><img alt=\"A Light in the Attic\" class=\"thumbnail\" src=\"../media/cache/2c/da/2cdad67c44b002e7ead0cc35693c0e8b.jpg\"/></a>\n</div>\n<p class=\"star-rating Three\">\n<i class=\"icon-star\"></i>\n<i class=\"icon-star\"></i>\n<i class=\"icon-star\"></i>\n<i class=\"icon-star\"></i>\n<i class=\"icon-star\"></i>\n</p>\n<h3><a href=\"a-light-in-the-attic_1000/index.html\" title=\"A Light in the Attic\">A Light in the ...</a></h3>\n<div class=\"product_price\">\n<p class=\"price_color\">Â£51.77</p>\n<p class=\"instock availability\">\n<i class=\"icon-ok\"></i>\n    \n        In stock\n    \n</p>\n<form>\n<button class=\"btn btn-primary btn-block\" data-loading-text=\"Adding...\" type=\"submit\">Add to basket</button>\n</form>\n</div>\n</article>"
     },
     "metadata": {},
     "execution_count": 52
    }
   ],
   "source": [
    "example"
   ]
  },
  {
   "cell_type": "code",
   "execution_count": 42,
   "metadata": {},
   "outputs": [
    {
     "output_type": "execute_result",
     "data": {
      "text/plain": "bs4.element.Tag"
     },
     "metadata": {},
     "execution_count": 42
    }
   ],
   "source": [
    "type(example)"
   ]
  },
  {
   "cell_type": "code",
   "execution_count": 43,
   "metadata": {},
   "outputs": [
    {
     "output_type": "execute_result",
     "data": {
      "text/plain": "{'class': ['product_pod']}"
     },
     "metadata": {},
     "execution_count": 43
    }
   ],
   "source": [
    "example.attrs"
   ]
  },
  {
   "cell_type": "markdown",
   "metadata": {},
   "source": [
    "Now by inspecting the site we can see that the class we want is class='star-rating Two' , if you click on this in your browser, you'll notice it displays the space as a . , so that means we want to search for \".star-rating.Two\""
   ]
  },
  {
   "cell_type": "code",
   "execution_count": 44,
   "metadata": {},
   "outputs": [
    {
     "output_type": "execute_result",
     "data": {
      "text/plain": "['\\n',\n <div class=\"image_container\">\n <a href=\"a-light-in-the-attic_1000/index.html\"><img alt=\"A Light in the Attic\" class=\"thumbnail\" src=\"../media/cache/2c/da/2cdad67c44b002e7ead0cc35693c0e8b.jpg\"/></a>\n </div>,\n '\\n',\n <p class=\"star-rating Three\">\n <i class=\"icon-star\"></i>\n <i class=\"icon-star\"></i>\n <i class=\"icon-star\"></i>\n <i class=\"icon-star\"></i>\n <i class=\"icon-star\"></i>\n </p>,\n '\\n',\n <h3><a href=\"a-light-in-the-attic_1000/index.html\" title=\"A Light in the Attic\">A Light in the ...</a></h3>,\n '\\n',\n <div class=\"product_price\">\n <p class=\"price_color\">Â£51.77</p>\n <p class=\"instock availability\">\n <i class=\"icon-ok\"></i>\n     \n         In stock\n     \n </p>\n <form>\n <button class=\"btn btn-primary btn-block\" data-loading-text=\"Adding...\" type=\"submit\">Add to basket</button>\n </form>\n </div>,\n '\\n']"
     },
     "metadata": {},
     "execution_count": 44
    }
   ],
   "source": [
    "list(example.children)"
   ]
  },
  {
   "cell_type": "code",
   "execution_count": 45,
   "metadata": {},
   "outputs": [
    {
     "output_type": "execute_result",
     "data": {
      "text/plain": "[<p class=\"star-rating Three\">\n <i class=\"icon-star\"></i>\n <i class=\"icon-star\"></i>\n <i class=\"icon-star\"></i>\n <i class=\"icon-star\"></i>\n <i class=\"icon-star\"></i>\n </p>]"
     },
     "metadata": {},
     "execution_count": 45
    }
   ],
   "source": [
    "example.select('.star-rating.Three')"
   ]
  },
  {
   "cell_type": "markdown",
   "metadata": {},
   "source": [
    "But we are looking for 2 stars, so it looks like we can just check to see if something was returned"
   ]
  },
  {
   "cell_type": "code",
   "execution_count": 46,
   "metadata": {},
   "outputs": [
    {
     "output_type": "execute_result",
     "data": {
      "text/plain": "[]"
     },
     "metadata": {},
     "execution_count": 46
    }
   ],
   "source": [
    "example.select('.star-rating.Two')"
   ]
  },
  {
   "cell_type": "markdown",
   "metadata": {},
   "source": [
    "Alternatively, we can just quickly check the text string to see if \"star-rating Two\" is in it. Either approach is fine (there are also many other alternative approaches!)\n",
    "\n",
    "Now let's see how we can get the title if we have a 2-star match:"
   ]
  },
  {
   "cell_type": "code",
   "execution_count": 47,
   "metadata": {},
   "outputs": [
    {
     "output_type": "execute_result",
     "data": {
      "text/plain": "[<a href=\"a-light-in-the-attic_1000/index.html\"><img alt=\"A Light in the Attic\" class=\"thumbnail\" src=\"../media/cache/2c/da/2cdad67c44b002e7ead0cc35693c0e8b.jpg\"/></a>,\n <a href=\"a-light-in-the-attic_1000/index.html\" title=\"A Light in the Attic\">A Light in the ...</a>]"
     },
     "metadata": {},
     "execution_count": 47
    }
   ],
   "source": [
    "example.select('a')"
   ]
  },
  {
   "cell_type": "code",
   "execution_count": 48,
   "metadata": {},
   "outputs": [
    {
     "output_type": "execute_result",
     "data": {
      "text/plain": "<a href=\"a-light-in-the-attic_1000/index.html\" title=\"A Light in the Attic\">A Light in the ...</a>"
     },
     "metadata": {},
     "execution_count": 48
    }
   ],
   "source": [
    "example.select('a')[1]"
   ]
  },
  {
   "cell_type": "code",
   "execution_count": 49,
   "metadata": {},
   "outputs": [
    {
     "output_type": "execute_result",
     "data": {
      "text/plain": "'A Light in the Attic'"
     },
     "metadata": {},
     "execution_count": 49
    }
   ],
   "source": [
    "example.select('a')[1]['title']"
   ]
  },
  {
   "cell_type": "markdown",
   "metadata": {},
   "source": [
    "Okay, let's give it a shot by combining all the ideas we've talked about! (this should take about 20-60 seconds to complete running. Be aware a firwall may prevent this script from running. Also if you are getting a no response error, maybe try adding a sleep step with time.sleep(1)."
   ]
  },
  {
   "cell_type": "code",
   "execution_count": 50,
   "metadata": {
    "collapsed": true
   },
   "outputs": [],
   "source": [
    "two_star_titles = []\n",
    "\n",
    "for n in range(1,51):\n",
    "\n",
    "    scrape_url = base_url.format(n)\n",
    "    res = requests.get(scrape_url)\n",
    "    \n",
    "    soup = bs4.BeautifulSoup(res.text,\"lxml\") # Using BeautifulSoupl and lxml engine to scrape\n",
    "    books = soup.select(\".product_pod\") # Selecting the right element \n",
    "    \n",
    "    for book in books:\n",
    "        if len(book.select('.star-rating.Two')) != 0: # Making sure the string isn't empty, meaning there are books witth two stars\n",
    "            two_star_titles.append(book.select('a')[1]['title']) # Grabbing the title"
   ]
  },
  {
   "cell_type": "code",
   "execution_count": 51,
   "metadata": {},
   "outputs": [
    {
     "output_type": "execute_result",
     "data": {
      "text/plain": "['Starving Hearts (Triangular Trade Trilogy, #1)',\n 'Libertarianism for Beginners',\n \"It's Only the Himalayas\",\n 'How Music Works',\n 'Maude (1883-1993):She Grew Up with the country',\n \"You can't bury them all: Poems\",\n 'Reasons to Stay Alive',\n 'Without Borders (Wanderlove #1)',\n 'Soul Reader',\n 'Security',\n 'Saga, Volume 5 (Saga (Collected Editions) #5)',\n 'Reskilling America: Learning to Labor in the Twenty-First Century',\n 'Political Suicide: Missteps, Peccadilloes, Bad Calls, Backroom Hijinx, Sordid Pasts, Rotten Breaks, and Just Plain Dumb Mistakes in the Annals of American Politics',\n 'Obsidian (Lux #1)',\n 'My Paris Kitchen: Recipes and Stories',\n 'Masks and Shadows',\n 'Lumberjanes, Vol. 2: Friendship to the Max (Lumberjanes #5-8)',\n 'Lumberjanes Vol. 3: A Terrible Plan (Lumberjanes #9-12)',\n 'Judo: Seven Steps to Black Belt (an Introductory Guide for Beginners)',\n 'I Hate Fairyland, Vol. 1: Madly Ever After (I Hate Fairyland (Compilations) #1-5)',\n 'Giant Days, Vol. 2 (Giant Days #5-8)',\n 'Everydata: The Misinformation Hidden in the Little Data You Consume Every Day',\n \"Don't Be a Jerk: And Other Practical Advice from Dogen, Japan's Greatest Zen Master\",\n 'Bossypants',\n 'Bitch Planet, Vol. 1: Extraordinary Machine (Bitch Planet (Collected Editions))',\n 'Avatar: The Last Airbender: Smoke and Shadow, Part 3 (Smoke and Shadow #3)',\n 'Tuesday Nights in 1980',\n 'The Psychopath Test: A Journey Through the Madness Industry',\n 'The Power of Now: A Guide to Spiritual Enlightenment',\n \"The Omnivore's Dilemma: A Natural History of Four Meals\",\n 'The Love and Lemons Cookbook: An Apple-to-Zucchini Celebration of Impromptu Cooking',\n 'The Girl on the Train',\n 'The Emerald Mystery',\n 'The Argonauts',\n 'Suddenly in Love (Lake Haven #1)',\n 'Soft Apocalypse',\n \"So You've Been Publicly Shamed\",\n 'Shoe Dog: A Memoir by the Creator of NIKE',\n 'Louisa: The Extraordinary Life of Mrs. Adams',\n 'Large Print Heart of the Pride',\n 'Grumbles',\n 'Chasing Heaven: What Dying Taught Me About Living',\n 'Becoming Wise: An Inquiry into the Mystery and Art of Living',\n 'Beauty Restored (Riley Family Legacy Novellas #3)',\n 'Batman: The Long Halloween (Batman)',\n \"Ayumi's Violin\",\n 'Wild Swans',\n \"What's It Like in Space?: Stories from Astronauts Who've Been There\",\n 'Until Friday Night (The Field Party #1)',\n 'Unbroken: A World War II Story of Survival, Resilience, and Redemption',\n 'Twenty Yawns',\n 'Through the Woods',\n 'This Is Where It Ends',\n 'The Year of Magical Thinking',\n 'The Last Mile (Amos Decker #2)',\n 'The Immortal Life of Henrietta Lacks',\n 'The Hidden Oracle (The Trials of Apollo #1)',\n 'The Guilty (Will Robie #4)',\n 'Red Hood/Arsenal, Vol. 1: Open for Business (Red Hood/Arsenal #1)',\n 'Once Was a Time',\n 'No Dream Is Too High: Life Lessons From a Man Who Walked on the Moon',\n 'Naruto (3-in-1 Edition), Vol. 14: Includes Vols. 40, 41 & 42 (Naruto: Omnibus #14)',\n 'More Than Music (Chasing the Dream #1)',\n 'Lowriders to the Center of the Earth (Lowriders in Space #2)',\n 'Eat Fat, Get Thin',\n 'Doctor Sleep (The Shining #2)',\n 'Crazy Love: Overwhelmed by a Relentless God',\n 'Carrie',\n 'Batman: Europa',\n 'Angels Walking (Angels Walking #1)',\n 'Adulthood Is a Myth: A \"Sarah\\'s Scribbles\" Collection',\n 'A Study in Scarlet (Sherlock Holmes #1)',\n 'A Series of Catastrophes and Miracles: A True Story of Love, Science, and Cancer',\n \"A People's History of the United States\",\n 'My Kitchen Year: 136 Recipes That Saved My Life',\n 'The Lonely City: Adventures in the Art of Being Alone',\n 'The Dinner Party',\n 'Stars Above (The Lunar Chronicles #4.5)',\n 'Love, Lies and Spies',\n 'Troublemaker: Surviving Hollywood and Scientology',\n 'The Widow',\n 'Setting the World on Fire: The Brief, Astonishing Life of St. Catherine of Siena',\n 'Mothering Sunday',\n 'Lilac Girls',\n '10% Happier: How I Tamed the Voice in My Head, Reduced Stress Without Losing My Edge, and Found Self-Help That Actually Works',\n 'Underlying Notes',\n 'The Flowers Lied',\n 'Modern Day Fables',\n \"Chernobyl 01:23:40: The Incredible True Story of the World's Worst Nuclear Disaster\",\n '23 Degrees South: A Tropical Tale of Changing Whether...',\n 'When Breath Becomes Air',\n 'Vagabonding: An Uncommon Guide to the Art of Long-Term World Travel',\n 'The Martian (The Martian #1)',\n \"Miller's Valley\",\n \"Love That Boy: What Two Presidents, Eight Road Trips, and My Son Taught Me About a Parent's Expectations\",\n 'Left Behind (Left Behind #1)',\n 'Howl and Other Poems',\n \"Heaven is for Real: A Little Boy's Astounding Story of His Trip to Heaven and Back\",\n \"Brazen: The Courage to Find the You That's Been Hiding\",\n '32 Yolks',\n 'Wildlife of New York: A Five-Borough Coloring Book',\n 'Unreasonable Hope: Finding Faith in the God Who Brings Purpose to Your Pain',\n 'The Art Book',\n 'Steal Like an Artist: 10 Things Nobody Told You About Being Creative',\n 'Raymie Nightingale',\n 'Like Never Before (Walker Family #2)',\n 'How to Be a Domestic Goddess: Baking and the Art of Comfort Cooking',\n 'Finding God in the Ruins: How God Redeems Pain',\n 'Chronicles, Vol. 1',\n 'A Summer In Europe',\n 'The Rise and Fall of the Third Reich: A History of Nazi Germany',\n 'The Makings of a Fatherless Child',\n 'The Fellowship of the Ring (The Lord of the Rings #1)',\n \"Tell the Wolves I'm Home\",\n 'In the Woods (Dublin Murder Squad #1)',\n 'Give It Back',\n 'Why Save the Bankers?: And Other Essays on Our Economic and Political Crisis',\n 'The Raven King (The Raven Cycle #4)',\n 'The Expatriates',\n 'The 5th Wave (The 5th Wave #1)',\n 'Peak: Secrets from the New Science of Expertise',\n 'Logan Kade (Fallen Crest High #5.5)',\n \"I Know Why the Caged Bird Sings (Maya Angelou's Autobiography #1)\",\n 'Drama',\n \"America's War for the Greater Middle East: A Military History\",\n 'A Game of Thrones (A Song of Ice and Fire #1)',\n \"The Pilgrim's Progress\",\n 'The Hound of the Baskervilles (Sherlock Holmes #5)',\n \"The Geography of Bliss: One Grump's Search for the Happiest Places in the World\",\n 'The Demonists (Demonist #1)',\n 'The Demon Prince of Momochi House, Vol. 4 (The Demon Prince of Momochi House #4)',\n 'Misery',\n 'Far From True (Promise Falls Trilogy #2)',\n 'Confessions of a Shopaholic (Shopaholic #1)',\n 'Vegan Vegetarian Omnivore: Dinner for Everyone at the Table',\n 'Two Boys Kissing',\n 'Twilight (Twilight #1)',\n 'Twenties Girl',\n 'The Tipping Point: How Little Things Can Make a Big Difference',\n 'The Stand',\n 'The Picture of Dorian Gray',\n 'The Name of God is Mercy',\n \"The Lover's Dictionary\",\n 'The Last Painting of Sara de Vos',\n 'The Guns of August',\n 'The Girl Who Played with Fire (Millennium Trilogy #2)',\n 'The Da Vinci Code (Robert Langdon #2)',\n 'The Cat in the Hat (Beginner Books B-1)',\n 'The Book Thief',\n 'The Autobiography of Malcolm X',\n \"Surely You're Joking, Mr. Feynman!: Adventures of a Curious Character\",\n 'Soldier (Talon #3)',\n 'Shopaholic & Baby (Shopaholic #5)',\n 'Seven Days in the Art World',\n 'Rework',\n 'Packing for Mars: The Curious Science of Life in the Void',\n 'Orange Is the New Black',\n 'One for the Money (Stephanie Plum #1)',\n 'Midnight Riot (Peter Grant/ Rivers of London - books #1)',\n 'Me Talk Pretty One Day',\n 'Manuscript Found in Accra',\n 'Lust & Wonder',\n \"Life, the Universe and Everything (Hitchhiker's Guide to the Galaxy #3)\",\n 'Life After Life',\n 'I Am Malala: The Girl Who Stood Up for Education and Was Shot by the Taliban',\n 'House of Lost Worlds: Dinosaurs, Dynasties, and the Story of Life on Earth',\n 'Horrible Bear!',\n 'Holidays on Ice',\n 'Girl in the Blue Coat',\n 'Fruits Basket, Vol. 3 (Fruits Basket #3)',\n 'Cosmos',\n 'Civilization and Its Discontents',\n \"Catastrophic Happiness: Finding Joy in Childhood's Messy Years\",\n 'Career of Evil (Cormoran Strike #3)',\n 'Born to Run: A Hidden Tribe, Superathletes, and the Greatest Race the World Has Never Seen',\n \"Best of My Love (Fool's Gold #20)\",\n 'Beowulf',\n 'Awkward',\n 'And Then There Were None',\n 'A Storm of Swords (A Song of Ice and Fire #3)',\n 'The Suffragettes (Little Black Classics, #96)',\n 'Vampire Girl (Vampire Girl #1)',\n 'Three Wishes (River of Time: California #1)',\n 'The Wicked + The Divine, Vol. 1: The Faust Act (The Wicked + The Divine)',\n 'The Little Prince',\n 'The Last Girl (The Dominion Trilogy #1)',\n 'Taking Shots (Assassins #1)',\n 'Settling the Score (The Summer Games #1)',\n 'Rhythm, Chord & Malykhin',\n 'One Second (Seven #7)',\n \"Old Records Never Die: One Man's Quest for His Vinyl and His Past\",\n 'Of Mice and Men',\n 'My Perfect Mistake (Over the Top #1)',\n 'Meditations',\n 'Frankenstein',\n 'Emma']"
     },
     "metadata": {},
     "execution_count": 51
    }
   ],
   "source": [
    "two_star_titles"
   ]
  },
  {
   "cell_type": "markdown",
   "metadata": {},
   "source": [
    "** Excellent! You should now have the tools necessary to scrape any websites that interest you! Keep in mind, the more complex the website, the harder it will be to scrape. Always ask for permission! **"
   ]
  }
 ],
 "metadata": {
  "anaconda-cloud": {},
  "kernelspec": {
   "display_name": "Python 3.7.7 64-bit",
   "language": "python",
   "name": "python_defaultSpec_1595536472782"
  },
  "language_info": {
   "codemirror_mode": {
    "name": "ipython",
    "version": 3
   },
   "file_extension": ".py",
   "mimetype": "text/x-python",
   "name": "python",
   "nbconvert_exporter": "python",
   "pygments_lexer": "ipython3",
   "version": "3.7.7-final"
  }
 },
 "nbformat": 4,
 "nbformat_minor": 2
}